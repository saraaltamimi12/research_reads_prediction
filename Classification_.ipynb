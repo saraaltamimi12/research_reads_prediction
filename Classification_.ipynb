{
 "cells": [
  {
   "cell_type": "code",
   "execution_count": 852,
   "id": "75ca29a9",
   "metadata": {},
   "outputs": [],
   "source": [
    "import numpy as np\n",
    "import pandas as pd\n",
    "import numpy as np\n",
    "import pickle\n",
    "from sklearn.cluster import KMeans\n",
    "from sklearn.preprocessing import MinMaxScaler, StandardScaler\n",
    "from sklearn.metrics import silhouette_score\n",
    "import seaborn as sns\n",
    "import matplotlib.pyplot as plt\n",
    "from sklearn import preprocessing\n",
    "from sklearn.neighbors import KNeighborsClassifier\n",
    "from sklearn.linear_model import LogisticRegression\n",
    "from sklearn.preprocessing import StandardScaler, MinMaxScaler, Normalizer, RobustScaler\n",
    "from sklearn.decomposition import PCA\n",
    "from sklearn.linear_model import LogisticRegression\n",
    "from sklearn.model_selection import cross_val_score, train_test_split, GridSearchCV\n",
    "from sklearn.linear_model import LogisticRegressionCV, SGDClassifier \n",
    "from sklearn.neighbors import KNeighborsClassifier, RadiusNeighborsClassifier\n",
    "from sklearn.linear_model import LogisticRegressionCV\n",
    "from sklearn.metrics import confusion_matrix,accuracy_score\n",
    "from sklearn.metrics import classification_report\n",
    "from sklearn.model_selection import RandomizedSearchCV\n",
    "from sklearn.ensemble import VotingClassifier\n",
    "from sklearn.ensemble import StackingClassifier\n",
    "import xgboost as xgb\n",
    " \n",
    "%matplotlib inline"
   ]
  },
  {
   "cell_type": "code",
   "execution_count": 84,
   "id": "c004fca4",
   "metadata": {},
   "outputs": [],
   "source": [
    "def make_confusion_matrix(model, X_local, y_local, threshold=0.5):\n",
    "    # Predict class 1 if probability of being in class 1 is greater than threshold\n",
    "    # (model.predict(X_test) does this automatically with a threshold of 0.5)\n",
    "    y_predict = model.predict(X_local)\n",
    "    fraud_confusion = confusion_matrix(y_local, y_predict)\n",
    "    plt.figure(dpi=80)\n",
    "    sns.heatmap(fraud_confusion, cmap=plt.cm.Blues, annot=True, square=True, fmt='d');\n",
    "    plt.xlabel('prediction')\n",
    "    plt.ylabel('actual')\n",
    "\n",
    "def make_class_report(model, X_local, y_local, threshold=0.5):\n",
    "    # Predict class 1 if probability of being in class 1 is greater than threshold\n",
    "    # (model.predict(X_test) does this automatically with a threshold of 0.5)\n",
    "    y_predict = model.predict(X_local)\n",
    "    print(classification_report(y_local, y_predict))"
   ]
  },
  {
   "cell_type": "code",
   "execution_count": 859,
   "id": "b9aeb2e7",
   "metadata": {},
   "outputs": [],
   "source": [
    "df=pd.read_csv('data_topics_eng.csv')"
   ]
  },
  {
   "cell_type": "code",
   "execution_count": 860,
   "id": "fb0dad68",
   "metadata": {},
   "outputs": [],
   "source": [
    "df_or=pd.read_csv('data_topics_eng.csv')"
   ]
  },
  {
   "cell_type": "markdown",
   "id": "241d6d88",
   "metadata": {},
   "source": [
    "#### Loading the encoder to get journal names "
   ]
  },
  {
   "cell_type": "code",
   "execution_count": 855,
   "id": "e8dab13c",
   "metadata": {},
   "outputs": [],
   "source": [
    "file = open(\"label_enc.pkl\",'rb')\n",
    "label_encoder= pickle.load(file)\n",
    "file.close()"
   ]
  },
  {
   "cell_type": "code",
   "execution_count": 861,
   "id": "04824337",
   "metadata": {},
   "outputs": [],
   "source": [
    "df_or['journal']=label_encoder.inverse_transform(df_or['journal'])"
   ]
  },
  {
   "cell_type": "code",
   "execution_count": 857,
   "id": "e5c76fe6",
   "metadata": {},
   "outputs": [
    {
     "data": {
      "text/html": [
       "<div>\n",
       "<style scoped>\n",
       "    .dataframe tbody tr th:only-of-type {\n",
       "        vertical-align: middle;\n",
       "    }\n",
       "\n",
       "    .dataframe tbody tr th {\n",
       "        vertical-align: top;\n",
       "    }\n",
       "\n",
       "    .dataframe thead th {\n",
       "        text-align: right;\n",
       "    }\n",
       "</style>\n",
       "<table border=\"1\" class=\"dataframe\">\n",
       "  <thead>\n",
       "    <tr style=\"text-align: right;\">\n",
       "      <th></th>\n",
       "      <th>title</th>\n",
       "      <th>authers</th>\n",
       "      <th>abstract</th>\n",
       "      <th>type</th>\n",
       "      <th>date_pub</th>\n",
       "      <th>journal</th>\n",
       "      <th>date_added</th>\n",
       "      <th>figuers</th>\n",
       "      <th>full_text</th>\n",
       "      <th>citation</th>\n",
       "      <th>...</th>\n",
       "      <th>a_neu</th>\n",
       "      <th>a_pos</th>\n",
       "      <th>a_compound</th>\n",
       "      <th>t_neg</th>\n",
       "      <th>t_neu</th>\n",
       "      <th>t_pos</th>\n",
       "      <th>t_compound</th>\n",
       "      <th>authers_num</th>\n",
       "      <th>date_days</th>\n",
       "      <th>reads_map</th>\n",
       "    </tr>\n",
       "  </thead>\n",
       "  <tbody>\n",
       "    <tr>\n",
       "      <th>0</th>\n",
       "      <td>Myths about Myths? A Commentary on Thomas (202...</td>\n",
       "      <td>['Ellen Daly', 'Olivia Smith', 'Hannah Bows[.....</td>\n",
       "      <td>commentary responds claim cheryl thomas show p...</td>\n",
       "      <td>Article</td>\n",
       "      <td>2021.0</td>\n",
       "      <td>Journal of Gender-Based Violence</td>\n",
       "      <td>6d ago</td>\n",
       "      <td>1</td>\n",
       "      <td>1</td>\n",
       "      <td>0</td>\n",
       "      <td>...</td>\n",
       "      <td>0.709</td>\n",
       "      <td>0.000</td>\n",
       "      <td>-0.9413</td>\n",
       "      <td>0.227</td>\n",
       "      <td>0.628</td>\n",
       "      <td>0.145</td>\n",
       "      <td>-0.4019</td>\n",
       "      <td>4</td>\n",
       "      <td>6.0</td>\n",
       "      <td>0</td>\n",
       "    </tr>\n",
       "    <tr>\n",
       "      <th>1</th>\n",
       "      <td>A direct observation of pain scale use in five...</td>\n",
       "      <td>['Laura Jenkins', 'Ruth H Parry', 'Christina F...</td>\n",
       "      <td>assessing pain intensity important palliative ...</td>\n",
       "      <td>Article</td>\n",
       "      <td>2021.0</td>\n",
       "      <td>Patient Education and Counseling</td>\n",
       "      <td>Oct 28</td>\n",
       "      <td>0</td>\n",
       "      <td>0</td>\n",
       "      <td>0</td>\n",
       "      <td>...</td>\n",
       "      <td>0.581</td>\n",
       "      <td>0.188</td>\n",
       "      <td>-0.8506</td>\n",
       "      <td>0.203</td>\n",
       "      <td>0.615</td>\n",
       "      <td>0.182</td>\n",
       "      <td>-0.1779</td>\n",
       "      <td>3</td>\n",
       "      <td>59.0</td>\n",
       "      <td>0</td>\n",
       "    </tr>\n",
       "    <tr>\n",
       "      <th>2</th>\n",
       "      <td>The Cold Truth: Art as Fulcrum for Recovery in...</td>\n",
       "      <td>['Eloise Malone']</td>\n",
       "      <td>describes art curating sexually exploited youn...</td>\n",
       "      <td>Article</td>\n",
       "      <td>2017.0</td>\n",
       "      <td>Journal of Social Work Practice</td>\n",
       "      <td>Oct 25</td>\n",
       "      <td>0</td>\n",
       "      <td>1</td>\n",
       "      <td>1</td>\n",
       "      <td>...</td>\n",
       "      <td>0.642</td>\n",
       "      <td>0.313</td>\n",
       "      <td>0.9816</td>\n",
       "      <td>0.000</td>\n",
       "      <td>0.850</td>\n",
       "      <td>0.150</td>\n",
       "      <td>0.3182</td>\n",
       "      <td>1</td>\n",
       "      <td>62.0</td>\n",
       "      <td>0</td>\n",
       "    </tr>\n",
       "    <tr>\n",
       "      <th>3</th>\n",
       "      <td>Dispositional Mindfulness Reduces Burnout and ...</td>\n",
       "      <td>['Denisse Zúñiga', 'Manuel Torres-Sahli', 'Att...</td>\n",
       "      <td>objective many study document high prevalence ...</td>\n",
       "      <td>Article</td>\n",
       "      <td>2021.0</td>\n",
       "      <td>Mindfulness</td>\n",
       "      <td>Oct 21</td>\n",
       "      <td>1</td>\n",
       "      <td>1</td>\n",
       "      <td>0</td>\n",
       "      <td>...</td>\n",
       "      <td>0.701</td>\n",
       "      <td>0.199</td>\n",
       "      <td>0.9300</td>\n",
       "      <td>0.000</td>\n",
       "      <td>0.854</td>\n",
       "      <td>0.146</td>\n",
       "      <td>0.3400</td>\n",
       "      <td>4</td>\n",
       "      <td>66.0</td>\n",
       "      <td>0</td>\n",
       "    </tr>\n",
       "    <tr>\n",
       "      <th>4</th>\n",
       "      <td>Realtalk Evidence-Based Communication Training...</td>\n",
       "      <td>['Ruth H Parry', 'Becky Whittaker', 'Marco Pin...</td>\n",
       "      <td>background communication skill training profes...</td>\n",
       "      <td>Preprint</td>\n",
       "      <td>2021.0</td>\n",
       "      <td>NaN</td>\n",
       "      <td>Oct 14</td>\n",
       "      <td>1</td>\n",
       "      <td>1</td>\n",
       "      <td>0</td>\n",
       "      <td>...</td>\n",
       "      <td>0.819</td>\n",
       "      <td>0.152</td>\n",
       "      <td>0.9648</td>\n",
       "      <td>0.000</td>\n",
       "      <td>1.000</td>\n",
       "      <td>0.000</td>\n",
       "      <td>0.0000</td>\n",
       "      <td>4</td>\n",
       "      <td>73.0</td>\n",
       "      <td>0</td>\n",
       "    </tr>\n",
       "  </tbody>\n",
       "</table>\n",
       "<p>5 rows × 44 columns</p>\n",
       "</div>"
      ],
      "text/plain": [
       "                                               title  \\\n",
       "0  Myths about Myths? A Commentary on Thomas (202...   \n",
       "1  A direct observation of pain scale use in five...   \n",
       "2  The Cold Truth: Art as Fulcrum for Recovery in...   \n",
       "3  Dispositional Mindfulness Reduces Burnout and ...   \n",
       "4  Realtalk Evidence-Based Communication Training...   \n",
       "\n",
       "                                             authers  \\\n",
       "0  ['Ellen Daly', 'Olivia Smith', 'Hannah Bows[.....   \n",
       "1  ['Laura Jenkins', 'Ruth H Parry', 'Christina F...   \n",
       "2                                  ['Eloise Malone']   \n",
       "3  ['Denisse Zúñiga', 'Manuel Torres-Sahli', 'Att...   \n",
       "4  ['Ruth H Parry', 'Becky Whittaker', 'Marco Pin...   \n",
       "\n",
       "                                            abstract      type  date_pub  \\\n",
       "0  commentary responds claim cheryl thomas show p...   Article    2021.0   \n",
       "1  assessing pain intensity important palliative ...   Article    2021.0   \n",
       "2  describes art curating sexually exploited youn...   Article    2017.0   \n",
       "3  objective many study document high prevalence ...   Article    2021.0   \n",
       "4  background communication skill training profes...  Preprint    2021.0   \n",
       "\n",
       "                             journal date_added  figuers  full_text  citation  \\\n",
       "0   Journal of Gender-Based Violence     6d ago        1          1         0   \n",
       "1   Patient Education and Counseling     Oct 28        0          0         0   \n",
       "2    Journal of Social Work Practice     Oct 25        0          1         1   \n",
       "3                        Mindfulness     Oct 21        1          1         0   \n",
       "4                                NaN     Oct 14        1          1         0   \n",
       "\n",
       "   ...  a_neu  a_pos a_compound  t_neg  t_neu  t_pos t_compound authers_num  \\\n",
       "0  ...  0.709  0.000    -0.9413  0.227  0.628  0.145    -0.4019           4   \n",
       "1  ...  0.581  0.188    -0.8506  0.203  0.615  0.182    -0.1779           3   \n",
       "2  ...  0.642  0.313     0.9816  0.000  0.850  0.150     0.3182           1   \n",
       "3  ...  0.701  0.199     0.9300  0.000  0.854  0.146     0.3400           4   \n",
       "4  ...  0.819  0.152     0.9648  0.000  1.000  0.000     0.0000           4   \n",
       "\n",
       "  date_days  reads_map  \n",
       "0       6.0          0  \n",
       "1      59.0          0  \n",
       "2      62.0          0  \n",
       "3      66.0          0  \n",
       "4      73.0          0  \n",
       "\n",
       "[5 rows x 44 columns]"
      ]
     },
     "execution_count": 857,
     "metadata": {},
     "output_type": "execute_result"
    }
   ],
   "source": [
    "df_or.head()"
   ]
  },
  {
   "cell_type": "code",
   "execution_count": 724,
   "id": "00de930e",
   "metadata": {},
   "outputs": [
    {
     "data": {
      "text/html": [
       "<div>\n",
       "<style scoped>\n",
       "    .dataframe tbody tr th:only-of-type {\n",
       "        vertical-align: middle;\n",
       "    }\n",
       "\n",
       "    .dataframe tbody tr th {\n",
       "        vertical-align: top;\n",
       "    }\n",
       "\n",
       "    .dataframe thead th {\n",
       "        text-align: right;\n",
       "    }\n",
       "</style>\n",
       "<table border=\"1\" class=\"dataframe\">\n",
       "  <thead>\n",
       "    <tr style=\"text-align: right;\">\n",
       "      <th></th>\n",
       "      <th>title</th>\n",
       "      <th>authers</th>\n",
       "      <th>abstract</th>\n",
       "      <th>type</th>\n",
       "      <th>date_pub</th>\n",
       "      <th>journal</th>\n",
       "      <th>date_added</th>\n",
       "      <th>figuers</th>\n",
       "      <th>full_text</th>\n",
       "      <th>citation</th>\n",
       "      <th>...</th>\n",
       "      <th>a_neg</th>\n",
       "      <th>a_neu</th>\n",
       "      <th>a_pos</th>\n",
       "      <th>a_compound</th>\n",
       "      <th>t_neg</th>\n",
       "      <th>t_neu</th>\n",
       "      <th>t_pos</th>\n",
       "      <th>t_compound</th>\n",
       "      <th>authers_num</th>\n",
       "      <th>date_days</th>\n",
       "    </tr>\n",
       "  </thead>\n",
       "  <tbody>\n",
       "    <tr>\n",
       "      <th>0</th>\n",
       "      <td>Myths about Myths? A Commentary on Thomas (202...</td>\n",
       "      <td>['Ellen Daly', 'Olivia Smith', 'Hannah Bows[.....</td>\n",
       "      <td>commentary responds claim cheryl thomas show p...</td>\n",
       "      <td>Article</td>\n",
       "      <td>2021.0</td>\n",
       "      <td>313</td>\n",
       "      <td>6d ago</td>\n",
       "      <td>1</td>\n",
       "      <td>1</td>\n",
       "      <td>0</td>\n",
       "      <td>...</td>\n",
       "      <td>0.291</td>\n",
       "      <td>0.709</td>\n",
       "      <td>0.000</td>\n",
       "      <td>-0.9413</td>\n",
       "      <td>0.227</td>\n",
       "      <td>0.628</td>\n",
       "      <td>0.145</td>\n",
       "      <td>-0.4019</td>\n",
       "      <td>4</td>\n",
       "      <td>6.0</td>\n",
       "    </tr>\n",
       "    <tr>\n",
       "      <th>1</th>\n",
       "      <td>A direct observation of pain scale use in five...</td>\n",
       "      <td>['Laura Jenkins', 'Ruth H Parry', 'Christina F...</td>\n",
       "      <td>assessing pain intensity important palliative ...</td>\n",
       "      <td>Article</td>\n",
       "      <td>2021.0</td>\n",
       "      <td>416</td>\n",
       "      <td>Oct 28</td>\n",
       "      <td>0</td>\n",
       "      <td>0</td>\n",
       "      <td>0</td>\n",
       "      <td>...</td>\n",
       "      <td>0.231</td>\n",
       "      <td>0.581</td>\n",
       "      <td>0.188</td>\n",
       "      <td>-0.8506</td>\n",
       "      <td>0.203</td>\n",
       "      <td>0.615</td>\n",
       "      <td>0.182</td>\n",
       "      <td>-0.1779</td>\n",
       "      <td>3</td>\n",
       "      <td>59.0</td>\n",
       "    </tr>\n",
       "    <tr>\n",
       "      <th>2</th>\n",
       "      <td>The Cold Truth: Art as Fulcrum for Recovery in...</td>\n",
       "      <td>['Eloise Malone']</td>\n",
       "      <td>describes art curating sexually exploited youn...</td>\n",
       "      <td>Article</td>\n",
       "      <td>2017.0</td>\n",
       "      <td>351</td>\n",
       "      <td>Oct 25</td>\n",
       "      <td>0</td>\n",
       "      <td>1</td>\n",
       "      <td>1</td>\n",
       "      <td>...</td>\n",
       "      <td>0.045</td>\n",
       "      <td>0.642</td>\n",
       "      <td>0.313</td>\n",
       "      <td>0.9816</td>\n",
       "      <td>0.000</td>\n",
       "      <td>0.850</td>\n",
       "      <td>0.150</td>\n",
       "      <td>0.3182</td>\n",
       "      <td>1</td>\n",
       "      <td>62.0</td>\n",
       "    </tr>\n",
       "    <tr>\n",
       "      <th>3</th>\n",
       "      <td>Dispositional Mindfulness Reduces Burnout and ...</td>\n",
       "      <td>['Denisse Zúñiga', 'Manuel Torres-Sahli', 'Att...</td>\n",
       "      <td>objective many study document high prevalence ...</td>\n",
       "      <td>Article</td>\n",
       "      <td>2021.0</td>\n",
       "      <td>382</td>\n",
       "      <td>Oct 21</td>\n",
       "      <td>1</td>\n",
       "      <td>1</td>\n",
       "      <td>0</td>\n",
       "      <td>...</td>\n",
       "      <td>0.100</td>\n",
       "      <td>0.701</td>\n",
       "      <td>0.199</td>\n",
       "      <td>0.9300</td>\n",
       "      <td>0.000</td>\n",
       "      <td>0.854</td>\n",
       "      <td>0.146</td>\n",
       "      <td>0.3400</td>\n",
       "      <td>4</td>\n",
       "      <td>66.0</td>\n",
       "    </tr>\n",
       "    <tr>\n",
       "      <th>4</th>\n",
       "      <td>Realtalk Evidence-Based Communication Training...</td>\n",
       "      <td>['Ruth H Parry', 'Becky Whittaker', 'Marco Pin...</td>\n",
       "      <td>background communication skill training profes...</td>\n",
       "      <td>Preprint</td>\n",
       "      <td>2021.0</td>\n",
       "      <td>569</td>\n",
       "      <td>Oct 14</td>\n",
       "      <td>1</td>\n",
       "      <td>1</td>\n",
       "      <td>0</td>\n",
       "      <td>...</td>\n",
       "      <td>0.029</td>\n",
       "      <td>0.819</td>\n",
       "      <td>0.152</td>\n",
       "      <td>0.9648</td>\n",
       "      <td>0.000</td>\n",
       "      <td>1.000</td>\n",
       "      <td>0.000</td>\n",
       "      <td>0.0000</td>\n",
       "      <td>4</td>\n",
       "      <td>73.0</td>\n",
       "    </tr>\n",
       "  </tbody>\n",
       "</table>\n",
       "<p>5 rows × 43 columns</p>\n",
       "</div>"
      ],
      "text/plain": [
       "                                               title  \\\n",
       "0  Myths about Myths? A Commentary on Thomas (202...   \n",
       "1  A direct observation of pain scale use in five...   \n",
       "2  The Cold Truth: Art as Fulcrum for Recovery in...   \n",
       "3  Dispositional Mindfulness Reduces Burnout and ...   \n",
       "4  Realtalk Evidence-Based Communication Training...   \n",
       "\n",
       "                                             authers  \\\n",
       "0  ['Ellen Daly', 'Olivia Smith', 'Hannah Bows[.....   \n",
       "1  ['Laura Jenkins', 'Ruth H Parry', 'Christina F...   \n",
       "2                                  ['Eloise Malone']   \n",
       "3  ['Denisse Zúñiga', 'Manuel Torres-Sahli', 'Att...   \n",
       "4  ['Ruth H Parry', 'Becky Whittaker', 'Marco Pin...   \n",
       "\n",
       "                                            abstract      type  date_pub  \\\n",
       "0  commentary responds claim cheryl thomas show p...   Article    2021.0   \n",
       "1  assessing pain intensity important palliative ...   Article    2021.0   \n",
       "2  describes art curating sexually exploited youn...   Article    2017.0   \n",
       "3  objective many study document high prevalence ...   Article    2021.0   \n",
       "4  background communication skill training profes...  Preprint    2021.0   \n",
       "\n",
       "   journal date_added  figuers  full_text  citation  ...  a_neg  a_neu  a_pos  \\\n",
       "0      313     6d ago        1          1         0  ...  0.291  0.709  0.000   \n",
       "1      416     Oct 28        0          0         0  ...  0.231  0.581  0.188   \n",
       "2      351     Oct 25        0          1         1  ...  0.045  0.642  0.313   \n",
       "3      382     Oct 21        1          1         0  ...  0.100  0.701  0.199   \n",
       "4      569     Oct 14        1          1         0  ...  0.029  0.819  0.152   \n",
       "\n",
       "  a_compound  t_neg  t_neu  t_pos t_compound authers_num  date_days  \n",
       "0    -0.9413  0.227  0.628  0.145    -0.4019           4        6.0  \n",
       "1    -0.8506  0.203  0.615  0.182    -0.1779           3       59.0  \n",
       "2     0.9816  0.000  0.850  0.150     0.3182           1       62.0  \n",
       "3     0.9300  0.000  0.854  0.146     0.3400           4       66.0  \n",
       "4     0.9648  0.000  1.000  0.000     0.0000           4       73.0  \n",
       "\n",
       "[5 rows x 43 columns]"
      ]
     },
     "execution_count": 724,
     "metadata": {},
     "output_type": "execute_result"
    }
   ],
   "source": [
    "df.head()"
   ]
  },
  {
   "cell_type": "markdown",
   "id": "78729baf",
   "metadata": {},
   "source": [
    "## map reads"
   ]
  },
  {
   "cell_type": "code",
   "execution_count": 725,
   "id": "291fcc1d",
   "metadata": {},
   "outputs": [
    {
     "data": {
      "text/plain": [
       "count    1185.000000\n",
       "mean       62.479325\n",
       "std       109.618810\n",
       "min         0.000000\n",
       "25%         9.000000\n",
       "50%        28.000000\n",
       "75%        65.000000\n",
       "max       936.000000\n",
       "Name: reads, dtype: float64"
      ]
     },
     "execution_count": 725,
     "metadata": {},
     "output_type": "execute_result"
    }
   ],
   "source": [
    "df['reads'].describe()"
   ]
  },
  {
   "cell_type": "markdown",
   "id": "2393c82d",
   "metadata": {},
   "source": [
    "Since the average number of reads is 57, we'll assume that any article that has more than 200 reads is considered popular in social science departments and use that number as a threshold."
   ]
  },
  {
   "cell_type": "code",
   "execution_count": 726,
   "id": "ddaebf9b",
   "metadata": {},
   "outputs": [],
   "source": [
    "def pop(df):\n",
    "    if df >=200:\n",
    "        return 1\n",
    "    else:\n",
    "        return 0"
   ]
  },
  {
   "cell_type": "code",
   "execution_count": 727,
   "id": "50ec50ca",
   "metadata": {},
   "outputs": [
    {
     "data": {
      "text/html": [
       "<div>\n",
       "<style scoped>\n",
       "    .dataframe tbody tr th:only-of-type {\n",
       "        vertical-align: middle;\n",
       "    }\n",
       "\n",
       "    .dataframe tbody tr th {\n",
       "        vertical-align: top;\n",
       "    }\n",
       "\n",
       "    .dataframe thead th {\n",
       "        text-align: right;\n",
       "    }\n",
       "</style>\n",
       "<table border=\"1\" class=\"dataframe\">\n",
       "  <thead>\n",
       "    <tr style=\"text-align: right;\">\n",
       "      <th></th>\n",
       "      <th>title</th>\n",
       "      <th>authers</th>\n",
       "      <th>abstract</th>\n",
       "      <th>type</th>\n",
       "      <th>date_pub</th>\n",
       "      <th>journal</th>\n",
       "      <th>date_added</th>\n",
       "      <th>figuers</th>\n",
       "      <th>full_text</th>\n",
       "      <th>citation</th>\n",
       "      <th>...</th>\n",
       "      <th>a_neg</th>\n",
       "      <th>a_neu</th>\n",
       "      <th>a_pos</th>\n",
       "      <th>a_compound</th>\n",
       "      <th>t_neg</th>\n",
       "      <th>t_neu</th>\n",
       "      <th>t_pos</th>\n",
       "      <th>t_compound</th>\n",
       "      <th>authers_num</th>\n",
       "      <th>date_days</th>\n",
       "    </tr>\n",
       "  </thead>\n",
       "  <tbody>\n",
       "    <tr>\n",
       "      <th>179</th>\n",
       "      <td>A global analysis of the impact of COVID-19 st...</td>\n",
       "      <td>['Amy Nivette', 'Renee Zahnow', 'Raúl Aguilar ...</td>\n",
       "      <td>stay home restriction control spread covid led...</td>\n",
       "      <td>Article</td>\n",
       "      <td>1.0</td>\n",
       "      <td>393</td>\n",
       "      <td>Jun 5</td>\n",
       "      <td>1</td>\n",
       "      <td>1</td>\n",
       "      <td>15</td>\n",
       "      <td>...</td>\n",
       "      <td>0.397</td>\n",
       "      <td>0.585</td>\n",
       "      <td>0.018</td>\n",
       "      <td>-0.9871</td>\n",
       "      <td>0.259</td>\n",
       "      <td>0.741</td>\n",
       "      <td>0.0</td>\n",
       "      <td>-0.5423</td>\n",
       "      <td>4</td>\n",
       "      <td>NaN</td>\n",
       "    </tr>\n",
       "  </tbody>\n",
       "</table>\n",
       "<p>1 rows × 43 columns</p>\n",
       "</div>"
      ],
      "text/plain": [
       "                                                 title  \\\n",
       "179  A global analysis of the impact of COVID-19 st...   \n",
       "\n",
       "                                               authers  \\\n",
       "179  ['Amy Nivette', 'Renee Zahnow', 'Raúl Aguilar ...   \n",
       "\n",
       "                                              abstract     type  date_pub  \\\n",
       "179  stay home restriction control spread covid led...  Article       1.0   \n",
       "\n",
       "     journal date_added  figuers  full_text  citation  ...  a_neg  a_neu  \\\n",
       "179      393      Jun 5        1          1        15  ...  0.397  0.585   \n",
       "\n",
       "     a_pos a_compound  t_neg  t_neu t_pos t_compound authers_num  date_days  \n",
       "179  0.018    -0.9871  0.259  0.741   0.0    -0.5423           4        NaN  \n",
       "\n",
       "[1 rows x 43 columns]"
      ]
     },
     "execution_count": 727,
     "metadata": {},
     "output_type": "execute_result"
    }
   ],
   "source": [
    "df[df['reads']==909]"
   ]
  },
  {
   "cell_type": "code",
   "execution_count": 864,
   "id": "3982e334",
   "metadata": {},
   "outputs": [],
   "source": [
    "df['reads_map'] = df['reads'].apply(pop)"
   ]
  },
  {
   "cell_type": "code",
   "execution_count": 865,
   "id": "0a681cd5",
   "metadata": {},
   "outputs": [],
   "source": [
    "df_or['reads_map'] = df_or['reads'].apply(pop)"
   ]
  },
  {
   "cell_type": "code",
   "execution_count": 901,
   "id": "9bbd135e",
   "metadata": {},
   "outputs": [
    {
     "data": {
      "text/html": [
       "<div>\n",
       "<style scoped>\n",
       "    .dataframe tbody tr th:only-of-type {\n",
       "        vertical-align: middle;\n",
       "    }\n",
       "\n",
       "    .dataframe tbody tr th {\n",
       "        vertical-align: top;\n",
       "    }\n",
       "\n",
       "    .dataframe thead th {\n",
       "        text-align: right;\n",
       "    }\n",
       "</style>\n",
       "<table border=\"1\" class=\"dataframe\">\n",
       "  <thead>\n",
       "    <tr style=\"text-align: right;\">\n",
       "      <th></th>\n",
       "      <th>title</th>\n",
       "      <th>authers</th>\n",
       "      <th>abstract</th>\n",
       "      <th>type</th>\n",
       "      <th>date_pub</th>\n",
       "      <th>journal</th>\n",
       "      <th>date_added</th>\n",
       "      <th>figuers</th>\n",
       "      <th>full_text</th>\n",
       "      <th>citation</th>\n",
       "      <th>...</th>\n",
       "      <th>a_neu</th>\n",
       "      <th>a_pos</th>\n",
       "      <th>a_compound</th>\n",
       "      <th>t_neg</th>\n",
       "      <th>t_neu</th>\n",
       "      <th>t_pos</th>\n",
       "      <th>t_compound</th>\n",
       "      <th>authers_num</th>\n",
       "      <th>date_days</th>\n",
       "      <th>reads_map</th>\n",
       "    </tr>\n",
       "  </thead>\n",
       "  <tbody>\n",
       "    <tr>\n",
       "      <th>804</th>\n",
       "      <td>The Avoidance and Fusion Questionnaire for You...</td>\n",
       "      <td>['Vasilis S. Vasiliou', 'Maria Koushiou', 'Mar...</td>\n",
       "      <td>current study evaluates whether avoidance fusi...</td>\n",
       "      <td>Poster</td>\n",
       "      <td>1.0</td>\n",
       "      <td>569</td>\n",
       "      <td>Aug 1</td>\n",
       "      <td>0</td>\n",
       "      <td>1</td>\n",
       "      <td>1</td>\n",
       "      <td>...</td>\n",
       "      <td>0.884</td>\n",
       "      <td>0.096</td>\n",
       "      <td>0.8519</td>\n",
       "      <td>0.197</td>\n",
       "      <td>0.803</td>\n",
       "      <td>0.0</td>\n",
       "      <td>-0.4019</td>\n",
       "      <td>4</td>\n",
       "      <td>138.0</td>\n",
       "      <td>1</td>\n",
       "    </tr>\n",
       "  </tbody>\n",
       "</table>\n",
       "<p>1 rows × 44 columns</p>\n",
       "</div>"
      ],
      "text/plain": [
       "                                                 title  \\\n",
       "804  The Avoidance and Fusion Questionnaire for You...   \n",
       "\n",
       "                                               authers  \\\n",
       "804  ['Vasilis S. Vasiliou', 'Maria Koushiou', 'Mar...   \n",
       "\n",
       "                                              abstract    type  date_pub  \\\n",
       "804  current study evaluates whether avoidance fusi...  Poster       1.0   \n",
       "\n",
       "     journal date_added  figuers  full_text  citation  ...  a_neu  a_pos  \\\n",
       "804      569      Aug 1        0          1         1  ...  0.884  0.096   \n",
       "\n",
       "    a_compound  t_neg  t_neu t_pos t_compound authers_num date_days  reads_map  \n",
       "804     0.8519  0.197  0.803   0.0    -0.4019           4     138.0          1  \n",
       "\n",
       "[1 rows x 44 columns]"
      ]
     },
     "execution_count": 901,
     "metadata": {},
     "output_type": "execute_result"
    }
   ],
   "source": [
    "df[df['reads']==936]"
   ]
  },
  {
   "cell_type": "code",
   "execution_count": 866,
   "id": "6f1b4aca",
   "metadata": {},
   "outputs": [],
   "source": [
    "def fill_na(df):\n",
    "    col=df.columns\n",
    "    df_filled=pd.DataFrame(columns=col)\n",
    "    for c in col:\n",
    "        if(df[c].dtypes == object):\n",
    "            df_filled[c]= df[c].fillna(df[c].mode()[0])    \n",
    "        elif (df[c].dtypes ==float or df[c].dtypes ==int):\n",
    "            df_filled[c]= df[c].fillna(df[c].median())\n",
    "            \n",
    "    return df_filled"
   ]
  },
  {
   "cell_type": "code",
   "execution_count": 867,
   "id": "2f7246a5",
   "metadata": {},
   "outputs": [],
   "source": [
    "df=fill_na(df)"
   ]
  },
  {
   "cell_type": "code",
   "execution_count": 868,
   "id": "7c453ace",
   "metadata": {},
   "outputs": [],
   "source": [
    "df_or=fill_na(df_or)"
   ]
  },
  {
   "cell_type": "code",
   "execution_count": 869,
   "id": "25e21f93",
   "metadata": {},
   "outputs": [
    {
     "name": "stderr",
     "output_type": "stream",
     "text": [
      "/Users/workplace/opt/anaconda3/lib/python3.8/site-packages/seaborn/_decorators.py:36: FutureWarning: Pass the following variable as a keyword arg: x. From version 0.12, the only valid positional argument will be `data`, and passing other arguments without an explicit keyword will result in an error or misinterpretation.\n",
      "  warnings.warn(\n"
     ]
    },
    {
     "data": {
      "text/plain": [
       "<AxesSubplot:xlabel='reads_map', ylabel='count'>"
      ]
     },
     "execution_count": 869,
     "metadata": {},
     "output_type": "execute_result"
    },
    {
     "data": {
      "image/png": "[encoded data removed]",
      "text/plain": [
       "<Figure size 432x288 with 1 Axes>"
      ]
     },
     "metadata": {
      "needs_background": "light"
     },
     "output_type": "display_data"
    }
   ],
   "source": [
    "sns.countplot(df['reads_map'] )"
   ]
  },
  {
   "cell_type": "markdown",
   "id": "956bf06a",
   "metadata": {},
   "source": [
    "# EDA On Popular Articles "
   ]
  },
  {
   "cell_type": "code",
   "execution_count": 895,
   "id": "14e7dd86",
   "metadata": {
    "scrolled": true
   },
   "outputs": [],
   "source": [
    "sns.set(rc = {'figure.figsize':(20,10)})\n"
   ]
  },
  {
   "cell_type": "code",
   "execution_count": 899,
   "id": "1533102e",
   "metadata": {},
   "outputs": [
    {
     "data": {
      "text/plain": [
       "count     78.000000\n",
       "mean     398.628205\n",
       "std      196.507170\n",
       "min      200.000000\n",
       "25%      233.000000\n",
       "50%      323.000000\n",
       "75%      528.250000\n",
       "max      936.000000\n",
       "Name: reads, dtype: float64"
      ]
     },
     "execution_count": 899,
     "metadata": {},
     "output_type": "execute_result"
    }
   ],
   "source": [
    "df_or[df_or['reads_map']==1]['reads'].describe()"
   ]
  },
  {
   "cell_type": "code",
   "execution_count": 905,
   "id": "7e4c5d33",
   "metadata": {},
   "outputs": [
    {
     "data": {
      "text/html": [
       "<div>\n",
       "<style scoped>\n",
       "    .dataframe tbody tr th:only-of-type {\n",
       "        vertical-align: middle;\n",
       "    }\n",
       "\n",
       "    .dataframe tbody tr th {\n",
       "        vertical-align: top;\n",
       "    }\n",
       "\n",
       "    .dataframe thead th {\n",
       "        text-align: right;\n",
       "    }\n",
       "</style>\n",
       "<table border=\"1\" class=\"dataframe\">\n",
       "  <thead>\n",
       "    <tr style=\"text-align: right;\">\n",
       "      <th></th>\n",
       "      <th>a_neg</th>\n",
       "      <th>a_neu</th>\n",
       "      <th>a_pos</th>\n",
       "      <th>a_compound</th>\n",
       "      <th>t_neg</th>\n",
       "      <th>t_neu</th>\n",
       "      <th>t_pos</th>\n",
       "      <th>t_compound</th>\n",
       "    </tr>\n",
       "  </thead>\n",
       "  <tbody>\n",
       "    <tr>\n",
       "      <th>count</th>\n",
       "      <td>78.000000</td>\n",
       "      <td>78.000000</td>\n",
       "      <td>78.000000</td>\n",
       "      <td>78.000000</td>\n",
       "      <td>78.000000</td>\n",
       "      <td>78.000000</td>\n",
       "      <td>78.000000</td>\n",
       "      <td>78.000000</td>\n",
       "    </tr>\n",
       "    <tr>\n",
       "      <th>mean</th>\n",
       "      <td>0.095872</td>\n",
       "      <td>0.764897</td>\n",
       "      <td>0.139218</td>\n",
       "      <td>0.280731</td>\n",
       "      <td>0.054769</td>\n",
       "      <td>0.875154</td>\n",
       "      <td>0.070077</td>\n",
       "      <td>0.021903</td>\n",
       "    </tr>\n",
       "    <tr>\n",
       "      <th>std</th>\n",
       "      <td>0.109482</td>\n",
       "      <td>0.134149</td>\n",
       "      <td>0.099639</td>\n",
       "      <td>0.729434</td>\n",
       "      <td>0.111161</td>\n",
       "      <td>0.162630</td>\n",
       "      <td>0.125772</td>\n",
       "      <td>0.357434</td>\n",
       "    </tr>\n",
       "    <tr>\n",
       "      <th>min</th>\n",
       "      <td>0.000000</td>\n",
       "      <td>0.401000</td>\n",
       "      <td>0.000000</td>\n",
       "      <td>-0.993900</td>\n",
       "      <td>0.000000</td>\n",
       "      <td>0.324000</td>\n",
       "      <td>0.000000</td>\n",
       "      <td>-0.893400</td>\n",
       "    </tr>\n",
       "    <tr>\n",
       "      <th>25%</th>\n",
       "      <td>0.019250</td>\n",
       "      <td>0.663500</td>\n",
       "      <td>0.075250</td>\n",
       "      <td>-0.220300</td>\n",
       "      <td>0.000000</td>\n",
       "      <td>0.758000</td>\n",
       "      <td>0.000000</td>\n",
       "      <td>0.000000</td>\n",
       "    </tr>\n",
       "    <tr>\n",
       "      <th>50%</th>\n",
       "      <td>0.054000</td>\n",
       "      <td>0.789500</td>\n",
       "      <td>0.123000</td>\n",
       "      <td>0.599150</td>\n",
       "      <td>0.000000</td>\n",
       "      <td>1.000000</td>\n",
       "      <td>0.000000</td>\n",
       "      <td>0.000000</td>\n",
       "    </tr>\n",
       "    <tr>\n",
       "      <th>75%</th>\n",
       "      <td>0.116750</td>\n",
       "      <td>0.865250</td>\n",
       "      <td>0.198500</td>\n",
       "      <td>0.918025</td>\n",
       "      <td>0.000000</td>\n",
       "      <td>1.000000</td>\n",
       "      <td>0.131750</td>\n",
       "      <td>0.000000</td>\n",
       "    </tr>\n",
       "    <tr>\n",
       "      <th>max</th>\n",
       "      <td>0.500000</td>\n",
       "      <td>1.000000</td>\n",
       "      <td>0.500000</td>\n",
       "      <td>0.995900</td>\n",
       "      <td>0.451000</td>\n",
       "      <td>1.000000</td>\n",
       "      <td>0.521000</td>\n",
       "      <td>0.765000</td>\n",
       "    </tr>\n",
       "  </tbody>\n",
       "</table>\n",
       "</div>"
      ],
      "text/plain": [
       "           a_neg      a_neu      a_pos  a_compound      t_neg      t_neu  \\\n",
       "count  78.000000  78.000000  78.000000   78.000000  78.000000  78.000000   \n",
       "mean    0.095872   0.764897   0.139218    0.280731   0.054769   0.875154   \n",
       "std     0.109482   0.134149   0.099639    0.729434   0.111161   0.162630   \n",
       "min     0.000000   0.401000   0.000000   -0.993900   0.000000   0.324000   \n",
       "25%     0.019250   0.663500   0.075250   -0.220300   0.000000   0.758000   \n",
       "50%     0.054000   0.789500   0.123000    0.599150   0.000000   1.000000   \n",
       "75%     0.116750   0.865250   0.198500    0.918025   0.000000   1.000000   \n",
       "max     0.500000   1.000000   0.500000    0.995900   0.451000   1.000000   \n",
       "\n",
       "           t_pos  t_compound  \n",
       "count  78.000000   78.000000  \n",
       "mean    0.070077    0.021903  \n",
       "std     0.125772    0.357434  \n",
       "min     0.000000   -0.893400  \n",
       "25%     0.000000    0.000000  \n",
       "50%     0.000000    0.000000  \n",
       "75%     0.131750    0.000000  \n",
       "max     0.521000    0.765000  "
      ]
     },
     "execution_count": 905,
     "metadata": {},
     "output_type": "execute_result"
    }
   ],
   "source": [
    "df_or[df_or['reads_map']==1][['a_neg', 'a_neu', 'a_pos', 'a_compound','t_neg', 't_neu', 't_pos', 't_compound']].describe()"
   ]
  },
  {
   "cell_type": "code",
   "execution_count": 896,
   "id": "af6dc3b1",
   "metadata": {},
   "outputs": [
    {
     "data": {
      "text/plain": [
       "<AxesSubplot:>"
      ]
     },
     "execution_count": 896,
     "metadata": {},
     "output_type": "execute_result"
    },
    {
     "data": {
      "image/png": "[encoded data removed]",
      "text/plain": [
       "<Figure size 1440x720 with 1 Axes>"
      ]
     },
     "metadata": {},
     "output_type": "display_data"
    }
   ],
   "source": [
    "df_or[df_or['reads_map']==1]['journal'].value_counts().head(5).plot(kind = 'bar')"
   ]
  },
  {
   "cell_type": "code",
   "execution_count": 897,
   "id": "1969ab29",
   "metadata": {},
   "outputs": [
    {
     "data": {
      "text/plain": [
       "<AxesSubplot:ylabel='main_topic2'>"
      ]
     },
     "execution_count": 897,
     "metadata": {},
     "output_type": "execute_result"
    },
    {
     "data": {
      "image/png": "[encoded data removed]",
      "text/plain": [
       "<Figure size 1440x720 with 1 Axes>"
      ]
     },
     "metadata": {},
     "output_type": "display_data"
    }
   ],
   "source": [
    "df_or[df_or['reads_map']==1]['main_topic2'].value_counts().head(5).plot(kind = 'pie')"
   ]
  },
  {
   "cell_type": "code",
   "execution_count": 906,
   "id": "953d1dcd",
   "metadata": {},
   "outputs": [
    {
     "data": {
      "text/plain": [
       "<AxesSubplot:>"
      ]
     },
     "execution_count": 906,
     "metadata": {},
     "output_type": "execute_result"
    },
    {
     "data": {
      "image/png": "[encoded data removed]",
      "text/plain": [
       "<Figure size 1440x720 with 1 Axes>"
      ]
     },
     "metadata": {},
     "output_type": "display_data"
    }
   ],
   "source": [
    "df_or[df_or['reads_map']==1]['full_text'].value_counts().head(5).plot(kind = 'bar')"
   ]
  },
  {
   "cell_type": "code",
   "execution_count": 735,
   "id": "ec3d71b7",
   "metadata": {},
   "outputs": [
    {
     "data": {
      "text/plain": [
       "<AxesSubplot:>"
      ]
     },
     "execution_count": 735,
     "metadata": {},
     "output_type": "execute_result"
    },
    {
     "data": {
      "image/png": "[encoded data removed]",
      "text/plain": [
       "<Figure size 1600x960 with 2 Axes>"
      ]
     },
     "metadata": {
      "needs_background": "light"
     },
     "output_type": "display_data"
    }
   ],
   "source": [
    "plt.figure(figsize=(10,6), dpi=160)\n",
    "sns.heatmap(df_or[['figuers','citation','full_text','journal','type','reads_map']].corr(),annot=True,cmap=\"Blues\")"
   ]
  },
  {
   "cell_type": "markdown",
   "id": "d217f7c3",
   "metadata": {},
   "source": [
    "# Baseline "
   ]
  },
  {
   "cell_type": "code",
   "execution_count": 736,
   "id": "8d4ec13b",
   "metadata": {},
   "outputs": [],
   "source": [
    "Xor = df_or.drop(['reads_map','reads'],axis=1)\n",
    "yor = df_or['reads_map']"
   ]
  },
  {
   "cell_type": "code",
   "execution_count": 737,
   "id": "4c40cb5c",
   "metadata": {},
   "outputs": [],
   "source": [
    "num_list = ['figuers','full_text']\n",
    "cat_list = ['type']"
   ]
  },
  {
   "cell_type": "code",
   "execution_count": 738,
   "id": "4fe9e5d5",
   "metadata": {},
   "outputs": [
    {
     "data": {
      "text/plain": [
       "'num_list = Xor.select_dtypes(include=np.number).columns\\ncat_list = Xor.select_dtypes(exclude=np.number).columns'"
      ]
     },
     "execution_count": 738,
     "metadata": {},
     "output_type": "execute_result"
    }
   ],
   "source": [
    "\"\"\"num_list = Xor.select_dtypes(include=np.number).columns\n",
    "cat_list = Xor.select_dtypes(exclude=np.number).columns\"\"\""
   ]
  },
  {
   "cell_type": "markdown",
   "id": "000f2bf8",
   "metadata": {},
   "source": [
    "### Numerical Only "
   ]
  },
  {
   "cell_type": "code",
   "execution_count": 739,
   "id": "6b550f8d",
   "metadata": {},
   "outputs": [],
   "source": [
    "X_train1, X_test1, y_train1, y_test1 = train_test_split(Xor[num_list], yor, test_size=0.2, random_state=22)\n",
    "X_train1, X_val1, y_train1, y_val1 = train_test_split(X_train1, y_train1, test_size=0.2, random_state=22)\n",
    "\n"
   ]
  },
  {
   "cell_type": "code",
   "execution_count": 740,
   "id": "28beceb1",
   "metadata": {},
   "outputs": [
    {
     "data": {
      "text/html": [
       "<div>\n",
       "<style scoped>\n",
       "    .dataframe tbody tr th:only-of-type {\n",
       "        vertical-align: middle;\n",
       "    }\n",
       "\n",
       "    .dataframe tbody tr th {\n",
       "        vertical-align: top;\n",
       "    }\n",
       "\n",
       "    .dataframe thead th {\n",
       "        text-align: right;\n",
       "    }\n",
       "</style>\n",
       "<table border=\"1\" class=\"dataframe\">\n",
       "  <thead>\n",
       "    <tr style=\"text-align: right;\">\n",
       "      <th></th>\n",
       "      <th>figuers</th>\n",
       "      <th>full_text</th>\n",
       "    </tr>\n",
       "  </thead>\n",
       "  <tbody>\n",
       "    <tr>\n",
       "      <th>105</th>\n",
       "      <td>0</td>\n",
       "      <td>1</td>\n",
       "    </tr>\n",
       "    <tr>\n",
       "      <th>619</th>\n",
       "      <td>1</td>\n",
       "      <td>1</td>\n",
       "    </tr>\n",
       "    <tr>\n",
       "      <th>1147</th>\n",
       "      <td>0</td>\n",
       "      <td>1</td>\n",
       "    </tr>\n",
       "    <tr>\n",
       "      <th>693</th>\n",
       "      <td>0</td>\n",
       "      <td>0</td>\n",
       "    </tr>\n",
       "    <tr>\n",
       "      <th>920</th>\n",
       "      <td>0</td>\n",
       "      <td>1</td>\n",
       "    </tr>\n",
       "    <tr>\n",
       "      <th>...</th>\n",
       "      <td>...</td>\n",
       "      <td>...</td>\n",
       "    </tr>\n",
       "    <tr>\n",
       "      <th>1109</th>\n",
       "      <td>0</td>\n",
       "      <td>1</td>\n",
       "    </tr>\n",
       "    <tr>\n",
       "      <th>1110</th>\n",
       "      <td>0</td>\n",
       "      <td>0</td>\n",
       "    </tr>\n",
       "    <tr>\n",
       "      <th>223</th>\n",
       "      <td>1</td>\n",
       "      <td>1</td>\n",
       "    </tr>\n",
       "    <tr>\n",
       "      <th>1108</th>\n",
       "      <td>0</td>\n",
       "      <td>0</td>\n",
       "    </tr>\n",
       "    <tr>\n",
       "      <th>600</th>\n",
       "      <td>1</td>\n",
       "      <td>1</td>\n",
       "    </tr>\n",
       "  </tbody>\n",
       "</table>\n",
       "<p>758 rows × 2 columns</p>\n",
       "</div>"
      ],
      "text/plain": [
       "      figuers  full_text\n",
       "105         0          1\n",
       "619         1          1\n",
       "1147        0          1\n",
       "693         0          0\n",
       "920         0          1\n",
       "...       ...        ...\n",
       "1109        0          1\n",
       "1110        0          0\n",
       "223         1          1\n",
       "1108        0          0\n",
       "600         1          1\n",
       "\n",
       "[758 rows x 2 columns]"
      ]
     },
     "execution_count": 740,
     "metadata": {},
     "output_type": "execute_result"
    }
   ],
   "source": [
    "X_train1"
   ]
  },
  {
   "cell_type": "code",
   "execution_count": 741,
   "id": "2da5b283",
   "metadata": {},
   "outputs": [],
   "source": [
    "lr_bl = LogisticRegression(max_iter=2000,random_state=100)"
   ]
  },
  {
   "cell_type": "code",
   "execution_count": 742,
   "id": "061e1536",
   "metadata": {},
   "outputs": [
    {
     "data": {
      "text/plain": [
       "0.9300791556728232"
      ]
     },
     "execution_count": 742,
     "metadata": {},
     "output_type": "execute_result"
    }
   ],
   "source": [
    "lr_bl.fit(X_train1,y_train1)\n",
    "lr_bl.score(X_train1,y_train1)"
   ]
  },
  {
   "cell_type": "code",
   "execution_count": 743,
   "id": "3b3b7407",
   "metadata": {},
   "outputs": [
    {
     "data": {
      "text/plain": [
       "0.9578947368421052"
      ]
     },
     "execution_count": 743,
     "metadata": {},
     "output_type": "execute_result"
    }
   ],
   "source": [
    "lr_bl.score(X_val1,y_val1)"
   ]
  },
  {
   "cell_type": "code",
   "execution_count": 744,
   "id": "e726f66e",
   "metadata": {},
   "outputs": [
    {
     "name": "stdout",
     "output_type": "stream",
     "text": [
      "              precision    recall  f1-score   support\n",
      "\n",
      "           0       0.93      1.00      0.96       705\n",
      "           1       0.00      0.00      0.00        53\n",
      "\n",
      "    accuracy                           0.93       758\n",
      "   macro avg       0.47      0.50      0.48       758\n",
      "weighted avg       0.87      0.93      0.90       758\n",
      "\n"
     ]
    },
    {
     "name": "stderr",
     "output_type": "stream",
     "text": [
      "/Users/workplace/opt/anaconda3/lib/python3.8/site-packages/sklearn/metrics/_classification.py:1245: UndefinedMetricWarning: Precision and F-score are ill-defined and being set to 0.0 in labels with no predicted samples. Use `zero_division` parameter to control this behavior.\n",
      "  _warn_prf(average, modifier, msg_start, len(result))\n",
      "/Users/workplace/opt/anaconda3/lib/python3.8/site-packages/sklearn/metrics/_classification.py:1245: UndefinedMetricWarning: Precision and F-score are ill-defined and being set to 0.0 in labels with no predicted samples. Use `zero_division` parameter to control this behavior.\n",
      "  _warn_prf(average, modifier, msg_start, len(result))\n",
      "/Users/workplace/opt/anaconda3/lib/python3.8/site-packages/sklearn/metrics/_classification.py:1245: UndefinedMetricWarning: Precision and F-score are ill-defined and being set to 0.0 in labels with no predicted samples. Use `zero_division` parameter to control this behavior.\n",
      "  _warn_prf(average, modifier, msg_start, len(result))\n"
     ]
    }
   ],
   "source": [
    "make_class_report(lr_bl,X_train1,y_train1)"
   ]
  },
  {
   "cell_type": "code",
   "execution_count": null,
   "id": "1471f7f1",
   "metadata": {},
   "outputs": [],
   "source": []
  },
  {
   "cell_type": "code",
   "execution_count": 745,
   "id": "895abde3",
   "metadata": {},
   "outputs": [
    {
     "name": "stdout",
     "output_type": "stream",
     "text": [
      "              precision    recall  f1-score   support\n",
      "\n",
      "           0       0.96      1.00      0.98       182\n",
      "           1       0.00      0.00      0.00         8\n",
      "\n",
      "    accuracy                           0.96       190\n",
      "   macro avg       0.48      0.50      0.49       190\n",
      "weighted avg       0.92      0.96      0.94       190\n",
      "\n"
     ]
    },
    {
     "name": "stderr",
     "output_type": "stream",
     "text": [
      "/Users/workplace/opt/anaconda3/lib/python3.8/site-packages/sklearn/metrics/_classification.py:1245: UndefinedMetricWarning: Precision and F-score are ill-defined and being set to 0.0 in labels with no predicted samples. Use `zero_division` parameter to control this behavior.\n",
      "  _warn_prf(average, modifier, msg_start, len(result))\n",
      "/Users/workplace/opt/anaconda3/lib/python3.8/site-packages/sklearn/metrics/_classification.py:1245: UndefinedMetricWarning: Precision and F-score are ill-defined and being set to 0.0 in labels with no predicted samples. Use `zero_division` parameter to control this behavior.\n",
      "  _warn_prf(average, modifier, msg_start, len(result))\n",
      "/Users/workplace/opt/anaconda3/lib/python3.8/site-packages/sklearn/metrics/_classification.py:1245: UndefinedMetricWarning: Precision and F-score are ill-defined and being set to 0.0 in labels with no predicted samples. Use `zero_division` parameter to control this behavior.\n",
      "  _warn_prf(average, modifier, msg_start, len(result))\n"
     ]
    }
   ],
   "source": [
    "make_class_report(lr_bl,X_val1, y_val1)"
   ]
  },
  {
   "cell_type": "markdown",
   "id": "c769af79",
   "metadata": {},
   "source": [
    "## ALL Feauters "
   ]
  },
  {
   "cell_type": "code",
   "execution_count": 746,
   "id": "5b9c2416",
   "metadata": {},
   "outputs": [],
   "source": [
    "\n",
    "dummy_Xor=pd.get_dummies(Xor[num_list + cat_list ],drop_first=True)"
   ]
  },
  {
   "cell_type": "code",
   "execution_count": null,
   "id": "6bd22be7",
   "metadata": {},
   "outputs": [],
   "source": []
  },
  {
   "cell_type": "code",
   "execution_count": 747,
   "id": "cabd105f",
   "metadata": {},
   "outputs": [
    {
     "data": {
      "text/html": [
       "<div>\n",
       "<style scoped>\n",
       "    .dataframe tbody tr th:only-of-type {\n",
       "        vertical-align: middle;\n",
       "    }\n",
       "\n",
       "    .dataframe tbody tr th {\n",
       "        vertical-align: top;\n",
       "    }\n",
       "\n",
       "    .dataframe thead th {\n",
       "        text-align: right;\n",
       "    }\n",
       "</style>\n",
       "<table border=\"1\" class=\"dataframe\">\n",
       "  <thead>\n",
       "    <tr style=\"text-align: right;\">\n",
       "      <th></th>\n",
       "      <th>figuers</th>\n",
       "      <th>full_text</th>\n",
       "      <th>type_Book</th>\n",
       "      <th>type_Chapter</th>\n",
       "      <th>type_Conference Paper</th>\n",
       "      <th>type_Data</th>\n",
       "      <th>type_Experiment Findings</th>\n",
       "      <th>type_Literature Review</th>\n",
       "      <th>type_Poster</th>\n",
       "      <th>type_Preprint</th>\n",
       "      <th>type_Presentation</th>\n",
       "      <th>type_Research</th>\n",
       "      <th>type_Research Proposal</th>\n",
       "      <th>type_Technical Report</th>\n",
       "      <th>type_Thesis</th>\n",
       "    </tr>\n",
       "  </thead>\n",
       "  <tbody>\n",
       "    <tr>\n",
       "      <th>0</th>\n",
       "      <td>1</td>\n",
       "      <td>1</td>\n",
       "      <td>0</td>\n",
       "      <td>0</td>\n",
       "      <td>0</td>\n",
       "      <td>0</td>\n",
       "      <td>0</td>\n",
       "      <td>0</td>\n",
       "      <td>0</td>\n",
       "      <td>0</td>\n",
       "      <td>0</td>\n",
       "      <td>0</td>\n",
       "      <td>0</td>\n",
       "      <td>0</td>\n",
       "      <td>0</td>\n",
       "    </tr>\n",
       "    <tr>\n",
       "      <th>1</th>\n",
       "      <td>0</td>\n",
       "      <td>0</td>\n",
       "      <td>0</td>\n",
       "      <td>0</td>\n",
       "      <td>0</td>\n",
       "      <td>0</td>\n",
       "      <td>0</td>\n",
       "      <td>0</td>\n",
       "      <td>0</td>\n",
       "      <td>0</td>\n",
       "      <td>0</td>\n",
       "      <td>0</td>\n",
       "      <td>0</td>\n",
       "      <td>0</td>\n",
       "      <td>0</td>\n",
       "    </tr>\n",
       "    <tr>\n",
       "      <th>2</th>\n",
       "      <td>0</td>\n",
       "      <td>1</td>\n",
       "      <td>0</td>\n",
       "      <td>0</td>\n",
       "      <td>0</td>\n",
       "      <td>0</td>\n",
       "      <td>0</td>\n",
       "      <td>0</td>\n",
       "      <td>0</td>\n",
       "      <td>0</td>\n",
       "      <td>0</td>\n",
       "      <td>0</td>\n",
       "      <td>0</td>\n",
       "      <td>0</td>\n",
       "      <td>0</td>\n",
       "    </tr>\n",
       "    <tr>\n",
       "      <th>3</th>\n",
       "      <td>1</td>\n",
       "      <td>1</td>\n",
       "      <td>0</td>\n",
       "      <td>0</td>\n",
       "      <td>0</td>\n",
       "      <td>0</td>\n",
       "      <td>0</td>\n",
       "      <td>0</td>\n",
       "      <td>0</td>\n",
       "      <td>0</td>\n",
       "      <td>0</td>\n",
       "      <td>0</td>\n",
       "      <td>0</td>\n",
       "      <td>0</td>\n",
       "      <td>0</td>\n",
       "    </tr>\n",
       "    <tr>\n",
       "      <th>4</th>\n",
       "      <td>1</td>\n",
       "      <td>1</td>\n",
       "      <td>0</td>\n",
       "      <td>0</td>\n",
       "      <td>0</td>\n",
       "      <td>0</td>\n",
       "      <td>0</td>\n",
       "      <td>0</td>\n",
       "      <td>0</td>\n",
       "      <td>1</td>\n",
       "      <td>0</td>\n",
       "      <td>0</td>\n",
       "      <td>0</td>\n",
       "      <td>0</td>\n",
       "      <td>0</td>\n",
       "    </tr>\n",
       "    <tr>\n",
       "      <th>...</th>\n",
       "      <td>...</td>\n",
       "      <td>...</td>\n",
       "      <td>...</td>\n",
       "      <td>...</td>\n",
       "      <td>...</td>\n",
       "      <td>...</td>\n",
       "      <td>...</td>\n",
       "      <td>...</td>\n",
       "      <td>...</td>\n",
       "      <td>...</td>\n",
       "      <td>...</td>\n",
       "      <td>...</td>\n",
       "      <td>...</td>\n",
       "      <td>...</td>\n",
       "      <td>...</td>\n",
       "    </tr>\n",
       "    <tr>\n",
       "      <th>1180</th>\n",
       "      <td>1</td>\n",
       "      <td>1</td>\n",
       "      <td>0</td>\n",
       "      <td>0</td>\n",
       "      <td>0</td>\n",
       "      <td>0</td>\n",
       "      <td>0</td>\n",
       "      <td>0</td>\n",
       "      <td>0</td>\n",
       "      <td>0</td>\n",
       "      <td>0</td>\n",
       "      <td>0</td>\n",
       "      <td>0</td>\n",
       "      <td>0</td>\n",
       "      <td>0</td>\n",
       "    </tr>\n",
       "    <tr>\n",
       "      <th>1181</th>\n",
       "      <td>0</td>\n",
       "      <td>0</td>\n",
       "      <td>0</td>\n",
       "      <td>1</td>\n",
       "      <td>0</td>\n",
       "      <td>0</td>\n",
       "      <td>0</td>\n",
       "      <td>0</td>\n",
       "      <td>0</td>\n",
       "      <td>0</td>\n",
       "      <td>0</td>\n",
       "      <td>0</td>\n",
       "      <td>0</td>\n",
       "      <td>0</td>\n",
       "      <td>0</td>\n",
       "    </tr>\n",
       "    <tr>\n",
       "      <th>1182</th>\n",
       "      <td>0</td>\n",
       "      <td>0</td>\n",
       "      <td>0</td>\n",
       "      <td>0</td>\n",
       "      <td>0</td>\n",
       "      <td>0</td>\n",
       "      <td>0</td>\n",
       "      <td>0</td>\n",
       "      <td>0</td>\n",
       "      <td>0</td>\n",
       "      <td>0</td>\n",
       "      <td>0</td>\n",
       "      <td>0</td>\n",
       "      <td>0</td>\n",
       "      <td>0</td>\n",
       "    </tr>\n",
       "    <tr>\n",
       "      <th>1183</th>\n",
       "      <td>1</td>\n",
       "      <td>1</td>\n",
       "      <td>0</td>\n",
       "      <td>1</td>\n",
       "      <td>0</td>\n",
       "      <td>0</td>\n",
       "      <td>0</td>\n",
       "      <td>0</td>\n",
       "      <td>0</td>\n",
       "      <td>0</td>\n",
       "      <td>0</td>\n",
       "      <td>0</td>\n",
       "      <td>0</td>\n",
       "      <td>0</td>\n",
       "      <td>0</td>\n",
       "    </tr>\n",
       "    <tr>\n",
       "      <th>1184</th>\n",
       "      <td>1</td>\n",
       "      <td>1</td>\n",
       "      <td>0</td>\n",
       "      <td>0</td>\n",
       "      <td>0</td>\n",
       "      <td>0</td>\n",
       "      <td>0</td>\n",
       "      <td>0</td>\n",
       "      <td>0</td>\n",
       "      <td>0</td>\n",
       "      <td>0</td>\n",
       "      <td>0</td>\n",
       "      <td>0</td>\n",
       "      <td>0</td>\n",
       "      <td>0</td>\n",
       "    </tr>\n",
       "  </tbody>\n",
       "</table>\n",
       "<p>1185 rows × 15 columns</p>\n",
       "</div>"
      ],
      "text/plain": [
       "      figuers  full_text  type_Book  type_Chapter  type_Conference Paper  \\\n",
       "0           1          1          0             0                      0   \n",
       "1           0          0          0             0                      0   \n",
       "2           0          1          0             0                      0   \n",
       "3           1          1          0             0                      0   \n",
       "4           1          1          0             0                      0   \n",
       "...       ...        ...        ...           ...                    ...   \n",
       "1180        1          1          0             0                      0   \n",
       "1181        0          0          0             1                      0   \n",
       "1182        0          0          0             0                      0   \n",
       "1183        1          1          0             1                      0   \n",
       "1184        1          1          0             0                      0   \n",
       "\n",
       "      type_Data  type_Experiment Findings  type_Literature Review  \\\n",
       "0             0                         0                       0   \n",
       "1             0                         0                       0   \n",
       "2             0                         0                       0   \n",
       "3             0                         0                       0   \n",
       "4             0                         0                       0   \n",
       "...         ...                       ...                     ...   \n",
       "1180          0                         0                       0   \n",
       "1181          0                         0                       0   \n",
       "1182          0                         0                       0   \n",
       "1183          0                         0                       0   \n",
       "1184          0                         0                       0   \n",
       "\n",
       "      type_Poster  type_Preprint  type_Presentation  type_Research  \\\n",
       "0               0              0                  0              0   \n",
       "1               0              0                  0              0   \n",
       "2               0              0                  0              0   \n",
       "3               0              0                  0              0   \n",
       "4               0              1                  0              0   \n",
       "...           ...            ...                ...            ...   \n",
       "1180            0              0                  0              0   \n",
       "1181            0              0                  0              0   \n",
       "1182            0              0                  0              0   \n",
       "1183            0              0                  0              0   \n",
       "1184            0              0                  0              0   \n",
       "\n",
       "      type_Research Proposal  type_Technical Report  type_Thesis  \n",
       "0                          0                      0            0  \n",
       "1                          0                      0            0  \n",
       "2                          0                      0            0  \n",
       "3                          0                      0            0  \n",
       "4                          0                      0            0  \n",
       "...                      ...                    ...          ...  \n",
       "1180                       0                      0            0  \n",
       "1181                       0                      0            0  \n",
       "1182                       0                      0            0  \n",
       "1183                       0                      0            0  \n",
       "1184                       0                      0            0  \n",
       "\n",
       "[1185 rows x 15 columns]"
      ]
     },
     "execution_count": 747,
     "metadata": {},
     "output_type": "execute_result"
    }
   ],
   "source": [
    "dummy_Xor"
   ]
  },
  {
   "cell_type": "code",
   "execution_count": 748,
   "id": "b55b7b45",
   "metadata": {},
   "outputs": [],
   "source": [
    "X_train2, X_test2, y_train2, y_test2 = train_test_split(dummy_Xor, yor, test_size=0.2, random_state=22)\n",
    "X_train2, X_val2, y_train2, y_val2 = train_test_split(X_train2, y_train2, test_size=0.2, random_state=22)\n",
    "\n",
    "\n"
   ]
  },
  {
   "cell_type": "code",
   "execution_count": 749,
   "id": "21f5e5c9",
   "metadata": {},
   "outputs": [
    {
     "data": {
      "text/plain": [
       "0.9300791556728232"
      ]
     },
     "execution_count": 749,
     "metadata": {},
     "output_type": "execute_result"
    }
   ],
   "source": [
    "lr_bl.fit(X_train2,y_train2)\n",
    "lr_bl.score(X_train2,y_train2)"
   ]
  },
  {
   "cell_type": "code",
   "execution_count": 750,
   "id": "811d72c2",
   "metadata": {},
   "outputs": [
    {
     "data": {
      "text/plain": [
       "0.9578947368421052"
      ]
     },
     "execution_count": 750,
     "metadata": {},
     "output_type": "execute_result"
    }
   ],
   "source": [
    "lr_bl.score(X_val2,y_val2)"
   ]
  },
  {
   "cell_type": "code",
   "execution_count": 751,
   "id": "a2bd9d04",
   "metadata": {},
   "outputs": [
    {
     "name": "stdout",
     "output_type": "stream",
     "text": [
      "              precision    recall  f1-score   support\n",
      "\n",
      "           0       0.96      1.00      0.98       182\n",
      "           1       0.00      0.00      0.00         8\n",
      "\n",
      "    accuracy                           0.96       190\n",
      "   macro avg       0.48      0.50      0.49       190\n",
      "weighted avg       0.92      0.96      0.94       190\n",
      "\n"
     ]
    },
    {
     "name": "stderr",
     "output_type": "stream",
     "text": [
      "/Users/workplace/opt/anaconda3/lib/python3.8/site-packages/sklearn/metrics/_classification.py:1245: UndefinedMetricWarning: Precision and F-score are ill-defined and being set to 0.0 in labels with no predicted samples. Use `zero_division` parameter to control this behavior.\n",
      "  _warn_prf(average, modifier, msg_start, len(result))\n",
      "/Users/workplace/opt/anaconda3/lib/python3.8/site-packages/sklearn/metrics/_classification.py:1245: UndefinedMetricWarning: Precision and F-score are ill-defined and being set to 0.0 in labels with no predicted samples. Use `zero_division` parameter to control this behavior.\n",
      "  _warn_prf(average, modifier, msg_start, len(result))\n",
      "/Users/workplace/opt/anaconda3/lib/python3.8/site-packages/sklearn/metrics/_classification.py:1245: UndefinedMetricWarning: Precision and F-score are ill-defined and being set to 0.0 in labels with no predicted samples. Use `zero_division` parameter to control this behavior.\n",
      "  _warn_prf(average, modifier, msg_start, len(result))\n"
     ]
    }
   ],
   "source": [
    "make_class_report(lr_bl,X_val2, y_val2)"
   ]
  },
  {
   "cell_type": "markdown",
   "id": "af850dc0",
   "metadata": {},
   "source": [
    "# Balanced "
   ]
  },
  {
   "cell_type": "code",
   "execution_count": 752,
   "id": "43537bea",
   "metadata": {},
   "outputs": [
    {
     "name": "stdout",
     "output_type": "stream",
     "text": [
      "Class=0, n=1107 (45.991%)\n",
      "Class=1, n=1300 (54.009%)\n"
     ]
    },
    {
     "name": "stderr",
     "output_type": "stream",
     "text": [
      "/Users/workplace/opt/anaconda3/lib/python3.8/site-packages/imblearn/utils/_validation.py:299: UserWarning: After over-sampling, the number of samples (1330) in class 0 will be larger than the number of samples in the majority class (class #0 -> 1107)\n",
      "  warnings.warn(\n",
      "/Users/workplace/opt/anaconda3/lib/python3.8/site-packages/imblearn/utils/_validation.py:299: UserWarning: After over-sampling, the number of samples (1300) in class 1 will be larger than the number of samples in the majority class (class #0 -> 1107)\n",
      "  warnings.warn(\n"
     ]
    },
    {
     "data": {
      "image/png": "[encoded data removed]",
      "text/plain": [
       "<Figure size 432x288 with 1 Axes>"
      ]
     },
     "metadata": {
      "needs_background": "light"
     },
     "output_type": "display_data"
    }
   ],
   "source": [
    "###### borderline-SMOTE for imbalanced dataset\n",
    "from collections import Counter\n",
    "from sklearn.datasets import make_classification\n",
    "from imblearn.over_sampling import BorderlineSMOTE\n",
    "from matplotlib import pyplot\n",
    "from numpy import where\n",
    "\n",
    "# define dataset\n",
    "strategy = {0:1330, 1:1300}\n",
    "oversample = BorderlineSMOTE(sampling_strategy=strategy)\n",
    "X3, y3 = oversample.fit_resample(dummy_Xor, yor)\n",
    "# summarize distribution\n",
    "counter = Counter(y3)\n",
    "for k,v in counter.items():\n",
    "\tper = v / len(y3) * 100\n",
    "\tprint('Class=%d, n=%d (%.3f%%)' % (k, v, per))\n",
    "# plot the distribution\n",
    "pyplot.bar(counter.keys(), counter.values())\n",
    "pyplot.show()"
   ]
  },
  {
   "cell_type": "code",
   "execution_count": 753,
   "id": "854d0e4d",
   "metadata": {},
   "outputs": [],
   "source": [
    "X_train3, X_test3, y_train3, y_test3= train_test_split(X3, y3, test_size=0.2, random_state=22)\n",
    "X_train3, X_val3, y_train3, y_val3 = train_test_split(X_train3, y_train3, test_size=0.2, random_state=22)\n",
    "\n",
    "\n",
    "\n"
   ]
  },
  {
   "cell_type": "code",
   "execution_count": 754,
   "id": "75949498",
   "metadata": {},
   "outputs": [
    {
     "data": {
      "text/plain": [
       "0.7844155844155845"
      ]
     },
     "execution_count": 754,
     "metadata": {},
     "output_type": "execute_result"
    }
   ],
   "source": [
    "lr_bl.fit(X_train3,y_train3)\n",
    "lr_bl.score(X_train3,y_train3)"
   ]
  },
  {
   "cell_type": "code",
   "execution_count": 755,
   "id": "6bca14e6",
   "metadata": {},
   "outputs": [
    {
     "data": {
      "text/plain": [
       "0.7974025974025974"
      ]
     },
     "execution_count": 755,
     "metadata": {},
     "output_type": "execute_result"
    }
   ],
   "source": [
    "lr_bl.score(X_val3,y_val3)"
   ]
  },
  {
   "cell_type": "code",
   "execution_count": 756,
   "id": "27bc5477",
   "metadata": {},
   "outputs": [
    {
     "name": "stdout",
     "output_type": "stream",
     "text": [
      "              precision    recall  f1-score   support\n",
      "\n",
      "           0       0.94      0.60      0.73       178\n",
      "           1       0.74      0.97      0.84       207\n",
      "\n",
      "    accuracy                           0.80       385\n",
      "   macro avg       0.84      0.78      0.78       385\n",
      "weighted avg       0.83      0.80      0.79       385\n",
      "\n"
     ]
    }
   ],
   "source": [
    "make_class_report(lr_bl,X_val3, y_val3)"
   ]
  },
  {
   "cell_type": "code",
   "execution_count": 757,
   "id": "708d54cb",
   "metadata": {},
   "outputs": [
    {
     "name": "stdout",
     "output_type": "stream",
     "text": [
      "              precision    recall  f1-score   support\n",
      "\n",
      "           0       0.91      0.58      0.71       221\n",
      "           1       0.73      0.95      0.83       261\n",
      "\n",
      "    accuracy                           0.78       482\n",
      "   macro avg       0.82      0.77      0.77       482\n",
      "weighted avg       0.81      0.78      0.77       482\n",
      "\n"
     ]
    }
   ],
   "source": [
    "make_class_report(lr_bl,X_test3, y_test3)"
   ]
  },
  {
   "cell_type": "markdown",
   "id": "056ef0ca",
   "metadata": {},
   "source": [
    "## After Engineering "
   ]
  },
  {
   "cell_type": "code",
   "execution_count": 765,
   "id": "7558a119",
   "metadata": {},
   "outputs": [],
   "source": [
    "X = df.drop(['reads_map','reads','abstract','main_topic',\"date_pub\",'title','authers','or_abt','topic_dist2','topic_dist','main_topic_cx','topic_dist_cx','abstract_sent','title_sent','date_added','interest','citation'],axis=1)\n",
    "y = df['reads_map']"
   ]
  },
  {
   "cell_type": "code",
   "execution_count": 766,
   "id": "dcd6a5e5",
   "metadata": {},
   "outputs": [
    {
     "data": {
      "text/html": [
       "<div>\n",
       "<style scoped>\n",
       "    .dataframe tbody tr th:only-of-type {\n",
       "        vertical-align: middle;\n",
       "    }\n",
       "\n",
       "    .dataframe tbody tr th {\n",
       "        vertical-align: top;\n",
       "    }\n",
       "\n",
       "    .dataframe thead th {\n",
       "        text-align: right;\n",
       "    }\n",
       "</style>\n",
       "<table border=\"1\" class=\"dataframe\">\n",
       "  <thead>\n",
       "    <tr style=\"text-align: right;\">\n",
       "      <th></th>\n",
       "      <th>type</th>\n",
       "      <th>journal</th>\n",
       "      <th>figuers</th>\n",
       "      <th>full_text</th>\n",
       "      <th>main_topic2</th>\n",
       "      <th>politics_and_economics</th>\n",
       "      <th>sexuality</th>\n",
       "      <th>covid</th>\n",
       "      <th>women</th>\n",
       "      <th>criminology</th>\n",
       "      <th>...</th>\n",
       "      <th>a_neg</th>\n",
       "      <th>a_neu</th>\n",
       "      <th>a_pos</th>\n",
       "      <th>a_compound</th>\n",
       "      <th>t_neg</th>\n",
       "      <th>t_neu</th>\n",
       "      <th>t_pos</th>\n",
       "      <th>t_compound</th>\n",
       "      <th>authers_num</th>\n",
       "      <th>date_days</th>\n",
       "    </tr>\n",
       "  </thead>\n",
       "  <tbody>\n",
       "    <tr>\n",
       "      <th>0</th>\n",
       "      <td>Article</td>\n",
       "      <td>313</td>\n",
       "      <td>1</td>\n",
       "      <td>1</td>\n",
       "      <td>politics_and_economics</td>\n",
       "      <td>0.018422</td>\n",
       "      <td>0.011069</td>\n",
       "      <td>0.000000</td>\n",
       "      <td>0.000000</td>\n",
       "      <td>0.008648</td>\n",
       "      <td>...</td>\n",
       "      <td>0.291</td>\n",
       "      <td>0.709</td>\n",
       "      <td>0.000</td>\n",
       "      <td>-0.9413</td>\n",
       "      <td>0.227</td>\n",
       "      <td>0.628</td>\n",
       "      <td>0.145</td>\n",
       "      <td>-0.4019</td>\n",
       "      <td>4</td>\n",
       "      <td>6.0</td>\n",
       "    </tr>\n",
       "    <tr>\n",
       "      <th>1</th>\n",
       "      <td>Article</td>\n",
       "      <td>416</td>\n",
       "      <td>0</td>\n",
       "      <td>0</td>\n",
       "      <td>community_service</td>\n",
       "      <td>0.000000</td>\n",
       "      <td>0.000000</td>\n",
       "      <td>0.000000</td>\n",
       "      <td>0.000000</td>\n",
       "      <td>0.000000</td>\n",
       "      <td>...</td>\n",
       "      <td>0.231</td>\n",
       "      <td>0.581</td>\n",
       "      <td>0.188</td>\n",
       "      <td>-0.8506</td>\n",
       "      <td>0.203</td>\n",
       "      <td>0.615</td>\n",
       "      <td>0.182</td>\n",
       "      <td>-0.1779</td>\n",
       "      <td>3</td>\n",
       "      <td>59.0</td>\n",
       "    </tr>\n",
       "    <tr>\n",
       "      <th>2</th>\n",
       "      <td>Article</td>\n",
       "      <td>351</td>\n",
       "      <td>0</td>\n",
       "      <td>1</td>\n",
       "      <td>community_service</td>\n",
       "      <td>0.008318</td>\n",
       "      <td>0.000000</td>\n",
       "      <td>0.000000</td>\n",
       "      <td>0.000000</td>\n",
       "      <td>0.002732</td>\n",
       "      <td>...</td>\n",
       "      <td>0.045</td>\n",
       "      <td>0.642</td>\n",
       "      <td>0.313</td>\n",
       "      <td>0.9816</td>\n",
       "      <td>0.000</td>\n",
       "      <td>0.850</td>\n",
       "      <td>0.150</td>\n",
       "      <td>0.3182</td>\n",
       "      <td>1</td>\n",
       "      <td>62.0</td>\n",
       "    </tr>\n",
       "    <tr>\n",
       "      <th>3</th>\n",
       "      <td>Article</td>\n",
       "      <td>382</td>\n",
       "      <td>1</td>\n",
       "      <td>1</td>\n",
       "      <td>education</td>\n",
       "      <td>0.000000</td>\n",
       "      <td>0.000000</td>\n",
       "      <td>0.053811</td>\n",
       "      <td>0.000000</td>\n",
       "      <td>0.001198</td>\n",
       "      <td>...</td>\n",
       "      <td>0.100</td>\n",
       "      <td>0.701</td>\n",
       "      <td>0.199</td>\n",
       "      <td>0.9300</td>\n",
       "      <td>0.000</td>\n",
       "      <td>0.854</td>\n",
       "      <td>0.146</td>\n",
       "      <td>0.3400</td>\n",
       "      <td>4</td>\n",
       "      <td>66.0</td>\n",
       "    </tr>\n",
       "    <tr>\n",
       "      <th>4</th>\n",
       "      <td>Preprint</td>\n",
       "      <td>569</td>\n",
       "      <td>1</td>\n",
       "      <td>1</td>\n",
       "      <td>community_service</td>\n",
       "      <td>0.000000</td>\n",
       "      <td>0.000000</td>\n",
       "      <td>0.000000</td>\n",
       "      <td>0.000000</td>\n",
       "      <td>0.022442</td>\n",
       "      <td>...</td>\n",
       "      <td>0.029</td>\n",
       "      <td>0.819</td>\n",
       "      <td>0.152</td>\n",
       "      <td>0.9648</td>\n",
       "      <td>0.000</td>\n",
       "      <td>1.000</td>\n",
       "      <td>0.000</td>\n",
       "      <td>0.0000</td>\n",
       "      <td>4</td>\n",
       "      <td>73.0</td>\n",
       "    </tr>\n",
       "    <tr>\n",
       "      <th>...</th>\n",
       "      <td>...</td>\n",
       "      <td>...</td>\n",
       "      <td>...</td>\n",
       "      <td>...</td>\n",
       "      <td>...</td>\n",
       "      <td>...</td>\n",
       "      <td>...</td>\n",
       "      <td>...</td>\n",
       "      <td>...</td>\n",
       "      <td>...</td>\n",
       "      <td>...</td>\n",
       "      <td>...</td>\n",
       "      <td>...</td>\n",
       "      <td>...</td>\n",
       "      <td>...</td>\n",
       "      <td>...</td>\n",
       "      <td>...</td>\n",
       "      <td>...</td>\n",
       "      <td>...</td>\n",
       "      <td>...</td>\n",
       "      <td>...</td>\n",
       "    </tr>\n",
       "    <tr>\n",
       "      <th>1180</th>\n",
       "      <td>Article</td>\n",
       "      <td>360</td>\n",
       "      <td>1</td>\n",
       "      <td>1</td>\n",
       "      <td>politics_and_economics</td>\n",
       "      <td>0.080479</td>\n",
       "      <td>0.000000</td>\n",
       "      <td>0.000000</td>\n",
       "      <td>0.000000</td>\n",
       "      <td>0.000000</td>\n",
       "      <td>...</td>\n",
       "      <td>0.088</td>\n",
       "      <td>0.692</td>\n",
       "      <td>0.221</td>\n",
       "      <td>0.9643</td>\n",
       "      <td>0.000</td>\n",
       "      <td>0.791</td>\n",
       "      <td>0.209</td>\n",
       "      <td>0.4404</td>\n",
       "      <td>2</td>\n",
       "      <td>138.0</td>\n",
       "    </tr>\n",
       "    <tr>\n",
       "      <th>1181</th>\n",
       "      <td>Chapter</td>\n",
       "      <td>569</td>\n",
       "      <td>0</td>\n",
       "      <td>0</td>\n",
       "      <td>health_medicine</td>\n",
       "      <td>0.011669</td>\n",
       "      <td>0.000000</td>\n",
       "      <td>0.002288</td>\n",
       "      <td>0.001974</td>\n",
       "      <td>0.001898</td>\n",
       "      <td>...</td>\n",
       "      <td>0.115</td>\n",
       "      <td>0.842</td>\n",
       "      <td>0.043</td>\n",
       "      <td>-0.9016</td>\n",
       "      <td>0.000</td>\n",
       "      <td>1.000</td>\n",
       "      <td>0.000</td>\n",
       "      <td>0.0000</td>\n",
       "      <td>1</td>\n",
       "      <td>138.0</td>\n",
       "    </tr>\n",
       "    <tr>\n",
       "      <th>1182</th>\n",
       "      <td>Article</td>\n",
       "      <td>392</td>\n",
       "      <td>0</td>\n",
       "      <td>0</td>\n",
       "      <td>health_medicine</td>\n",
       "      <td>0.000000</td>\n",
       "      <td>0.000000</td>\n",
       "      <td>0.000000</td>\n",
       "      <td>0.020797</td>\n",
       "      <td>0.000000</td>\n",
       "      <td>...</td>\n",
       "      <td>0.031</td>\n",
       "      <td>0.924</td>\n",
       "      <td>0.046</td>\n",
       "      <td>0.1027</td>\n",
       "      <td>0.000</td>\n",
       "      <td>1.000</td>\n",
       "      <td>0.000</td>\n",
       "      <td>0.0000</td>\n",
       "      <td>4</td>\n",
       "      <td>138.0</td>\n",
       "    </tr>\n",
       "    <tr>\n",
       "      <th>1183</th>\n",
       "      <td>Chapter</td>\n",
       "      <td>569</td>\n",
       "      <td>1</td>\n",
       "      <td>1</td>\n",
       "      <td>politics_and_economics</td>\n",
       "      <td>0.052179</td>\n",
       "      <td>0.012575</td>\n",
       "      <td>0.000000</td>\n",
       "      <td>0.000000</td>\n",
       "      <td>0.000000</td>\n",
       "      <td>...</td>\n",
       "      <td>0.000</td>\n",
       "      <td>1.000</td>\n",
       "      <td>0.000</td>\n",
       "      <td>0.0000</td>\n",
       "      <td>0.000</td>\n",
       "      <td>1.000</td>\n",
       "      <td>0.000</td>\n",
       "      <td>0.0000</td>\n",
       "      <td>2</td>\n",
       "      <td>138.0</td>\n",
       "    </tr>\n",
       "    <tr>\n",
       "      <th>1184</th>\n",
       "      <td>Article</td>\n",
       "      <td>392</td>\n",
       "      <td>1</td>\n",
       "      <td>1</td>\n",
       "      <td>health_medicine</td>\n",
       "      <td>0.000000</td>\n",
       "      <td>0.000000</td>\n",
       "      <td>0.001633</td>\n",
       "      <td>0.000000</td>\n",
       "      <td>0.000000</td>\n",
       "      <td>...</td>\n",
       "      <td>0.231</td>\n",
       "      <td>0.654</td>\n",
       "      <td>0.115</td>\n",
       "      <td>-0.9186</td>\n",
       "      <td>0.268</td>\n",
       "      <td>0.732</td>\n",
       "      <td>0.000</td>\n",
       "      <td>-0.6597</td>\n",
       "      <td>4</td>\n",
       "      <td>138.0</td>\n",
       "    </tr>\n",
       "  </tbody>\n",
       "</table>\n",
       "<p>1185 rows × 27 columns</p>\n",
       "</div>"
      ],
      "text/plain": [
       "          type  journal  figuers  full_text             main_topic2  \\\n",
       "0      Article      313        1          1  politics_and_economics   \n",
       "1      Article      416        0          0       community_service   \n",
       "2      Article      351        0          1       community_service   \n",
       "3      Article      382        1          1               education   \n",
       "4     Preprint      569        1          1       community_service   \n",
       "...        ...      ...      ...        ...                     ...   \n",
       "1180   Article      360        1          1  politics_and_economics   \n",
       "1181   Chapter      569        0          0         health_medicine   \n",
       "1182   Article      392        0          0         health_medicine   \n",
       "1183   Chapter      569        1          1  politics_and_economics   \n",
       "1184   Article      392        1          1         health_medicine   \n",
       "\n",
       "      politics_and_economics  sexuality     covid     women  criminology  ...  \\\n",
       "0                   0.018422   0.011069  0.000000  0.000000     0.008648  ...   \n",
       "1                   0.000000   0.000000  0.000000  0.000000     0.000000  ...   \n",
       "2                   0.008318   0.000000  0.000000  0.000000     0.002732  ...   \n",
       "3                   0.000000   0.000000  0.053811  0.000000     0.001198  ...   \n",
       "4                   0.000000   0.000000  0.000000  0.000000     0.022442  ...   \n",
       "...                      ...        ...       ...       ...          ...  ...   \n",
       "1180                0.080479   0.000000  0.000000  0.000000     0.000000  ...   \n",
       "1181                0.011669   0.000000  0.002288  0.001974     0.001898  ...   \n",
       "1182                0.000000   0.000000  0.000000  0.020797     0.000000  ...   \n",
       "1183                0.052179   0.012575  0.000000  0.000000     0.000000  ...   \n",
       "1184                0.000000   0.000000  0.001633  0.000000     0.000000  ...   \n",
       "\n",
       "      a_neg  a_neu  a_pos  a_compound  t_neg  t_neu  t_pos  t_compound  \\\n",
       "0     0.291  0.709  0.000     -0.9413  0.227  0.628  0.145     -0.4019   \n",
       "1     0.231  0.581  0.188     -0.8506  0.203  0.615  0.182     -0.1779   \n",
       "2     0.045  0.642  0.313      0.9816  0.000  0.850  0.150      0.3182   \n",
       "3     0.100  0.701  0.199      0.9300  0.000  0.854  0.146      0.3400   \n",
       "4     0.029  0.819  0.152      0.9648  0.000  1.000  0.000      0.0000   \n",
       "...     ...    ...    ...         ...    ...    ...    ...         ...   \n",
       "1180  0.088  0.692  0.221      0.9643  0.000  0.791  0.209      0.4404   \n",
       "1181  0.115  0.842  0.043     -0.9016  0.000  1.000  0.000      0.0000   \n",
       "1182  0.031  0.924  0.046      0.1027  0.000  1.000  0.000      0.0000   \n",
       "1183  0.000  1.000  0.000      0.0000  0.000  1.000  0.000      0.0000   \n",
       "1184  0.231  0.654  0.115     -0.9186  0.268  0.732  0.000     -0.6597   \n",
       "\n",
       "      authers_num  date_days  \n",
       "0               4        6.0  \n",
       "1               3       59.0  \n",
       "2               1       62.0  \n",
       "3               4       66.0  \n",
       "4               4       73.0  \n",
       "...           ...        ...  \n",
       "1180            2      138.0  \n",
       "1181            1      138.0  \n",
       "1182            4      138.0  \n",
       "1183            2      138.0  \n",
       "1184            4      138.0  \n",
       "\n",
       "[1185 rows x 27 columns]"
      ]
     },
     "execution_count": 766,
     "metadata": {},
     "output_type": "execute_result"
    }
   ],
   "source": [
    "X "
   ]
  },
  {
   "cell_type": "code",
   "execution_count": 767,
   "id": "849dc86c",
   "metadata": {},
   "outputs": [],
   "source": [
    "dummy_X=pd.get_dummies(X,drop_first=True)"
   ]
  },
  {
   "cell_type": "code",
   "execution_count": 768,
   "id": "dcd44ed9",
   "metadata": {},
   "outputs": [],
   "source": [
    "X_train, X_val, y_train, y_val = train_test_split(dummy_X, y, test_size=0.2, random_state=13)\n",
    "\n"
   ]
  },
  {
   "cell_type": "code",
   "execution_count": 769,
   "id": "6e66f0ac",
   "metadata": {},
   "outputs": [],
   "source": [
    "lr = LogisticRegression(max_iter=2000,random_state=100)"
   ]
  },
  {
   "cell_type": "code",
   "execution_count": 770,
   "id": "b202ecea",
   "metadata": {},
   "outputs": [
    {
     "data": {
      "text/plain": [
       "0.9282700421940928"
      ]
     },
     "execution_count": 770,
     "metadata": {},
     "output_type": "execute_result"
    }
   ],
   "source": [
    "lr.fit(X_train,y_train)\n",
    "y_pred = lr.predict(X_train)\n",
    "lr.score(X_train,y_train)"
   ]
  },
  {
   "cell_type": "code",
   "execution_count": 771,
   "id": "bcd221cc",
   "metadata": {},
   "outputs": [
    {
     "data": {
      "text/plain": [
       "0.9578059071729957"
      ]
     },
     "execution_count": 771,
     "metadata": {},
     "output_type": "execute_result"
    }
   ],
   "source": [
    "lr.score(X_val,y_val)"
   ]
  },
  {
   "cell_type": "code",
   "execution_count": null,
   "id": "a3544745",
   "metadata": {},
   "outputs": [],
   "source": []
  },
  {
   "cell_type": "code",
   "execution_count": 772,
   "id": "441685a4",
   "metadata": {},
   "outputs": [
    {
     "name": "stdout",
     "output_type": "stream",
     "text": [
      "              precision    recall  f1-score   support\n",
      "\n",
      "           0       0.96      1.00      0.98       227\n",
      "           1       0.00      0.00      0.00        10\n",
      "\n",
      "    accuracy                           0.96       237\n",
      "   macro avg       0.48      0.50      0.49       237\n",
      "weighted avg       0.92      0.96      0.94       237\n",
      "\n"
     ]
    },
    {
     "name": "stderr",
     "output_type": "stream",
     "text": [
      "/Users/workplace/opt/anaconda3/lib/python3.8/site-packages/sklearn/metrics/_classification.py:1245: UndefinedMetricWarning: Precision and F-score are ill-defined and being set to 0.0 in labels with no predicted samples. Use `zero_division` parameter to control this behavior.\n",
      "  _warn_prf(average, modifier, msg_start, len(result))\n",
      "/Users/workplace/opt/anaconda3/lib/python3.8/site-packages/sklearn/metrics/_classification.py:1245: UndefinedMetricWarning: Precision and F-score are ill-defined and being set to 0.0 in labels with no predicted samples. Use `zero_division` parameter to control this behavior.\n",
      "  _warn_prf(average, modifier, msg_start, len(result))\n",
      "/Users/workplace/opt/anaconda3/lib/python3.8/site-packages/sklearn/metrics/_classification.py:1245: UndefinedMetricWarning: Precision and F-score are ill-defined and being set to 0.0 in labels with no predicted samples. Use `zero_division` parameter to control this behavior.\n",
      "  _warn_prf(average, modifier, msg_start, len(result))\n"
     ]
    }
   ],
   "source": [
    "make_class_report(lr,X_val, y_val)"
   ]
  },
  {
   "cell_type": "markdown",
   "id": "3d9015be",
   "metadata": {},
   "source": [
    "## Balanceing the data "
   ]
  },
  {
   "cell_type": "code",
   "execution_count": 773,
   "id": "16123f22",
   "metadata": {},
   "outputs": [
    {
     "data": {
      "text/plain": [
       "0    1107\n",
       "1      78\n",
       "Name: reads_map, dtype: int64"
      ]
     },
     "execution_count": 773,
     "metadata": {},
     "output_type": "execute_result"
    }
   ],
   "source": [
    "df['reads_map'].value_counts()"
   ]
  },
  {
   "cell_type": "code",
   "execution_count": 774,
   "id": "c860b5c5",
   "metadata": {},
   "outputs": [
    {
     "name": "stdout",
     "output_type": "stream",
     "text": [
      "Class=0, n=1107 (45.991%)\n",
      "Class=1, n=1300 (54.009%)\n"
     ]
    },
    {
     "name": "stderr",
     "output_type": "stream",
     "text": [
      "/Users/workplace/opt/anaconda3/lib/python3.8/site-packages/imblearn/utils/_validation.py:299: UserWarning: After over-sampling, the number of samples (1330) in class 0 will be larger than the number of samples in the majority class (class #0 -> 1107)\n",
      "  warnings.warn(\n",
      "/Users/workplace/opt/anaconda3/lib/python3.8/site-packages/imblearn/utils/_validation.py:299: UserWarning: After over-sampling, the number of samples (1300) in class 1 will be larger than the number of samples in the majority class (class #0 -> 1107)\n",
      "  warnings.warn(\n"
     ]
    },
    {
     "data": {
      "image/png": "[encoded data removed]",
      "text/plain": [
       "<Figure size 432x288 with 1 Axes>"
      ]
     },
     "metadata": {
      "needs_background": "light"
     },
     "output_type": "display_data"
    }
   ],
   "source": [
    "###### borderline-SMOTE for imbalanced dataset\n",
    "from collections import Counter\n",
    "from sklearn.datasets import make_classification\n",
    "from imblearn.over_sampling import BorderlineSMOTE\n",
    "from matplotlib import pyplot\n",
    "from numpy import where\n",
    "\n",
    "# define dataset\n",
    "strategy = {0:1330, 1:1300}\n",
    "oversample = BorderlineSMOTE(sampling_strategy=strategy)\n",
    "X2, y2 = oversample.fit_resample(dummy_X, y)\n",
    "# summarize distribution\n",
    "counter = Counter(y2)\n",
    "for k,v in counter.items():\n",
    "\tper = v / len(y2) * 100\n",
    "\tprint('Class=%d, n=%d (%.3f%%)' % (k, v, per))\n",
    "# plot the distribution\n",
    "pyplot.bar(counter.keys(), counter.values())\n",
    "pyplot.show()"
   ]
  },
  {
   "cell_type": "code",
   "execution_count": 775,
   "id": "69ccd39b",
   "metadata": {},
   "outputs": [],
   "source": [
    "X_train4, X_test4, y_train4, y_test4 = train_test_split(X2, y2, test_size=0.2, random_state=25)\n",
    "X_train4, X_val4, y_train4, y_val4 = train_test_split(X_train4, y_train4, test_size=0.2, random_state=20)\n",
    "\n",
    "\n",
    "\n",
    "lr = LogisticRegression(max_iter=2000,random_state=100)"
   ]
  },
  {
   "cell_type": "code",
   "execution_count": 776,
   "id": "427ac71e",
   "metadata": {},
   "outputs": [
    {
     "name": "stderr",
     "output_type": "stream",
     "text": [
      "/Users/workplace/opt/anaconda3/lib/python3.8/site-packages/sklearn/linear_model/_logistic.py:763: ConvergenceWarning: lbfgs failed to converge (status=1):\n",
      "STOP: TOTAL NO. of ITERATIONS REACHED LIMIT.\n",
      "\n",
      "Increase the number of iterations (max_iter) or scale the data as shown in:\n",
      "    https://scikit-learn.org/stable/modules/preprocessing.html\n",
      "Please also refer to the documentation for alternative solver options:\n",
      "    https://scikit-learn.org/stable/modules/linear_model.html#logistic-regression\n",
      "  n_iter_i = _check_optimize_result(\n"
     ]
    },
    {
     "data": {
      "text/plain": [
       "0.8863636363636364"
      ]
     },
     "execution_count": 776,
     "metadata": {},
     "output_type": "execute_result"
    }
   ],
   "source": [
    "lr.fit(X_train4,y_train4)\n",
    "y_pred = lr.predict(X_train4)\n",
    "lr.score(X_train4,y_train4)"
   ]
  },
  {
   "cell_type": "code",
   "execution_count": 777,
   "id": "846557d4",
   "metadata": {},
   "outputs": [
    {
     "data": {
      "text/plain": [
       "0.8623376623376623"
      ]
     },
     "execution_count": 777,
     "metadata": {},
     "output_type": "execute_result"
    }
   ],
   "source": [
    "lr.score(X_val4,y_val4)"
   ]
  },
  {
   "cell_type": "code",
   "execution_count": 778,
   "id": "508a6b5a",
   "metadata": {},
   "outputs": [
    {
     "data": {
      "text/plain": [
       "0.9004149377593361"
      ]
     },
     "execution_count": 778,
     "metadata": {},
     "output_type": "execute_result"
    }
   ],
   "source": [
    "lr.score(X_test4,y_test4)"
   ]
  },
  {
   "cell_type": "code",
   "execution_count": 779,
   "id": "ca275922",
   "metadata": {},
   "outputs": [
    {
     "name": "stdout",
     "output_type": "stream",
     "text": [
      "              precision    recall  f1-score   support\n",
      "\n",
      "           0       0.85      0.92      0.88       707\n",
      "           1       0.93      0.86      0.89       833\n",
      "\n",
      "    accuracy                           0.89      1540\n",
      "   macro avg       0.89      0.89      0.89      1540\n",
      "weighted avg       0.89      0.89      0.89      1540\n",
      "\n"
     ]
    }
   ],
   "source": [
    "make_class_report(lr,X_train4, y_train4)"
   ]
  },
  {
   "cell_type": "code",
   "execution_count": 780,
   "id": "eb14a2bd",
   "metadata": {},
   "outputs": [
    {
     "name": "stdout",
     "output_type": "stream",
     "text": [
      "              precision    recall  f1-score   support\n",
      "\n",
      "           0       0.85      0.87      0.86       185\n",
      "           1       0.88      0.85      0.87       200\n",
      "\n",
      "    accuracy                           0.86       385\n",
      "   macro avg       0.86      0.86      0.86       385\n",
      "weighted avg       0.86      0.86      0.86       385\n",
      "\n"
     ]
    }
   ],
   "source": [
    "make_class_report(lr,X_val4, y_val4)"
   ]
  },
  {
   "cell_type": "markdown",
   "id": "38ab0200",
   "metadata": {},
   "source": [
    "## "
   ]
  },
  {
   "cell_type": "code",
   "execution_count": 781,
   "id": "d3d9dc68",
   "metadata": {},
   "outputs": [
    {
     "name": "stdout",
     "output_type": "stream",
     "text": [
      "              precision    recall  f1-score   support\n",
      "\n",
      "           0       0.87      0.91      0.89       215\n",
      "           1       0.93      0.89      0.91       267\n",
      "\n",
      "    accuracy                           0.90       482\n",
      "   macro avg       0.90      0.90      0.90       482\n",
      "weighted avg       0.90      0.90      0.90       482\n",
      "\n"
     ]
    }
   ],
   "source": [
    "make_class_report(lr,X_test4, y_test4)"
   ]
  },
  {
   "cell_type": "code",
   "execution_count": 782,
   "id": "411dfbda",
   "metadata": {},
   "outputs": [
    {
     "data": {
      "image/png": "[encoded data removed]",
      "text/plain": [
       "<Figure size 480x320 with 2 Axes>"
      ]
     },
     "metadata": {
      "needs_background": "light"
     },
     "output_type": "display_data"
    }
   ],
   "source": [
    "make_confusion_matrix(lr,X_test4, y_test4, 0.5)"
   ]
  },
  {
   "cell_type": "markdown",
   "id": "59732bac",
   "metadata": {},
   "source": [
    "# Clustring "
   ]
  },
  {
   "cell_type": "code",
   "execution_count": 783,
   "id": "a05cb89f",
   "metadata": {},
   "outputs": [
    {
     "data": {
      "text/plain": [
       "Index(['journal', 'figuers', 'full_text', 'politics_and_economics',\n",
       "       'sexuality', 'covid', 'women', 'criminology', 'education',\n",
       "       'health_medicine', 'child_family', 'community_service', 't_length_w',\n",
       "       'a_length_s', 'a_length_w', 'a_neg', 'a_neu', 'a_pos', 'a_compound',\n",
       "       't_neg', 't_neu', 't_pos', 't_compound', 'authers_num', 'date_days',\n",
       "       'type_Book', 'type_Chapter', 'type_Conference Paper', 'type_Data',\n",
       "       'type_Experiment Findings', 'type_Literature Review', 'type_Poster',\n",
       "       'type_Preprint', 'type_Presentation', 'type_Research',\n",
       "       'type_Research Proposal', 'type_Technical Report', 'type_Thesis',\n",
       "       'main_topic2_community_service', 'main_topic2_covid',\n",
       "       'main_topic2_criminology', 'main_topic2_education',\n",
       "       'main_topic2_health_medicine', 'main_topic2_politics_and_economics',\n",
       "       'main_topic2_sexuality', 'main_topic2_women'],\n",
       "      dtype='object')"
      ]
     },
     "execution_count": 783,
     "metadata": {},
     "output_type": "execute_result"
    }
   ],
   "source": [
    "X_train4.columns"
   ]
  },
  {
   "cell_type": "code",
   "execution_count": 823,
   "id": "efab28bd",
   "metadata": {},
   "outputs": [],
   "source": [
    "Xkm=dummy_X"
   ]
  },
  {
   "cell_type": "code",
   "execution_count": 824,
   "id": "c3ea5e0e",
   "metadata": {},
   "outputs": [],
   "source": [
    "Xkm['pop']=y"
   ]
  },
  {
   "cell_type": "code",
   "execution_count": 825,
   "id": "8f040275",
   "metadata": {},
   "outputs": [],
   "source": [
    "Xkm= Xkm[Xkm['pop']==1]"
   ]
  },
  {
   "cell_type": "code",
   "execution_count": 826,
   "id": "8b967551",
   "metadata": {},
   "outputs": [],
   "source": [
    "or_features=['figuers','full_text','date_days','authers_num','politics_and_economics',\n",
    "       'sexuality', 'covid', 'women', 'criminology', 'education',\n",
    "       'health_medicine', 'child_family', 'community_service',\n",
    "       'main_topic2_community_service', 'main_topic2_covid',\n",
    "       'main_topic2_criminology', 'main_topic2_education',\n",
    "       'main_topic2_health_medicine', 'main_topic2_politics_and_economics',\n",
    "       'main_topic2_sexuality', 'main_topic2_women']\n",
    "Xkm=Xkm[or_features]"
   ]
  },
  {
   "cell_type": "code",
   "execution_count": 827,
   "id": "1aa05f4b",
   "metadata": {},
   "outputs": [],
   "source": [
    "ss = StandardScaler()\n",
    "X_std = ss.fit_transform(Xkm)\n"
   ]
  },
  {
   "cell_type": "code",
   "execution_count": 828,
   "id": "0e303164",
   "metadata": {},
   "outputs": [],
   "source": [
    "inertia_list = []\n",
    "sil_list = []\n",
    "k_list = []\n",
    "for k in range(2, 15):\n",
    "    km = KMeans(n_clusters = k, random_state=42)\n",
    "    cluster_labels = km.fit_predict(X_std)\n",
    "    k_list.append(k)\n",
    "    inertia_list.append(km.inertia_)\n",
    "    \n",
    "    sil_avg = silhouette_score(X_std, cluster_labels)\n",
    "    sil_list.append(sil_avg)\n",
    "    \n",
    "    "
   ]
  },
  {
   "cell_type": "code",
   "execution_count": 829,
   "id": "868bba70",
   "metadata": {},
   "outputs": [
    {
     "data": {
      "text/plain": [
       "[<matplotlib.lines.Line2D at 0x7fc5d89a8ca0>]"
      ]
     },
     "execution_count": 829,
     "metadata": {},
     "output_type": "execute_result"
    },
    {
     "data": {
      "image/png": "[encoded data removed]",
      "text/plain": [
       "<Figure size 432x288 with 1 Axes>"
      ]
     },
     "metadata": {
      "needs_background": "light"
     },
     "output_type": "display_data"
    }
   ],
   "source": [
    "plt.plot(k_list, inertia_list)"
   ]
  },
  {
   "cell_type": "code",
   "execution_count": 830,
   "id": "ddff1fae",
   "metadata": {},
   "outputs": [
    {
     "name": "stdout",
     "output_type": "stream",
     "text": [
      "2 0.1278142106319098\n",
      "3 0.14067763028627547\n",
      "4 0.18877383537359047\n",
      "5 0.22421732516946796\n",
      "6 0.2787911196173054\n",
      "7 0.295298879562865\n",
      "8 0.35161560621765797\n",
      "9 0.3847085090705864\n",
      "10 0.3721106816279961\n",
      "11 0.3602779794418235\n",
      "12 0.34933386257808163\n",
      "13 0.3580003749251\n",
      "14 0.35590922098997796\n"
     ]
    }
   ],
   "source": [
    "for k, sil in zip(k_list, sil_list):\n",
    "    print(k, sil)"
   ]
  },
  {
   "cell_type": "code",
   "execution_count": 831,
   "id": "d2979dd6",
   "metadata": {},
   "outputs": [],
   "source": [
    "dfkm= df[df['reads_map']==1]"
   ]
  },
  {
   "cell_type": "code",
   "execution_count": 832,
   "id": "a9d84996",
   "metadata": {},
   "outputs": [
    {
     "name": "stderr",
     "output_type": "stream",
     "text": [
      "<ipython-input-832-4c48fdc75c87>:3: SettingWithCopyWarning: \n",
      "A value is trying to be set on a copy of a slice from a DataFrame.\n",
      "Try using .loc[row_indexer,col_indexer] = value instead\n",
      "\n",
      "See the caveats in the documentation: https://pandas.pydata.org/pandas-docs/stable/user_guide/indexing.html#returning-a-view-versus-a-copy\n",
      "  dfkm[\"cluster\"] = cluster_labels\n"
     ]
    }
   ],
   "source": [
    "km = KMeans(n_clusters = 9, random_state=42)\n",
    "cluster_labels = km.fit_predict(X_std)\n",
    "dfkm[\"cluster\"] = cluster_labels"
   ]
  },
  {
   "cell_type": "code",
   "execution_count": 833,
   "id": "7241865b",
   "metadata": {},
   "outputs": [
    {
     "name": "stderr",
     "output_type": "stream",
     "text": [
      "/Users/workplace/opt/anaconda3/lib/python3.8/site-packages/seaborn/_decorators.py:36: FutureWarning: Pass the following variable as a keyword arg: x. From version 0.12, the only valid positional argument will be `data`, and passing other arguments without an explicit keyword will result in an error or misinterpretation.\n",
      "  warnings.warn(\n"
     ]
    },
    {
     "data": {
      "text/plain": [
       "<AxesSubplot:xlabel='cluster', ylabel='count'>"
      ]
     },
     "execution_count": 833,
     "metadata": {},
     "output_type": "execute_result"
    },
    {
     "data": {
      "image/png": "[encoded data removed]",
      "text/plain": [
       "<Figure size 432x288 with 1 Axes>"
      ]
     },
     "metadata": {
      "needs_background": "light"
     },
     "output_type": "display_data"
    }
   ],
   "source": [
    "sns.countplot(dfkm['cluster'])"
   ]
  },
  {
   "cell_type": "code",
   "execution_count": 854,
   "id": "969e2dfe",
   "metadata": {},
   "outputs": [],
   "source": [
    "analysis_feauters=['figuers','full_text','authers_num','politics_and_economics',\n",
    "       'sexuality', 'covid', 'women', 'criminology', 'education',\n",
    "       'health_medicine', 'child_family', 'community_service']"
   ]
  },
  {
   "cell_type": "code",
   "execution_count": null,
   "id": "8334bc19",
   "metadata": {},
   "outputs": [],
   "source": []
  },
  {
   "cell_type": "code",
   "execution_count": 850,
   "id": "8216da29",
   "metadata": {},
   "outputs": [
    {
     "data": {
      "text/html": [
       "<div>\n",
       "<style scoped>\n",
       "    .dataframe tbody tr th:only-of-type {\n",
       "        vertical-align: middle;\n",
       "    }\n",
       "\n",
       "    .dataframe tbody tr th {\n",
       "        vertical-align: top;\n",
       "    }\n",
       "\n",
       "    .dataframe thead th {\n",
       "        text-align: right;\n",
       "    }\n",
       "</style>\n",
       "<table border=\"1\" class=\"dataframe\">\n",
       "  <thead>\n",
       "    <tr style=\"text-align: right;\">\n",
       "      <th></th>\n",
       "      <th>title</th>\n",
       "      <th>authers</th>\n",
       "      <th>abstract</th>\n",
       "      <th>type</th>\n",
       "      <th>date_pub</th>\n",
       "      <th>journal</th>\n",
       "      <th>date_added</th>\n",
       "      <th>figuers</th>\n",
       "      <th>full_text</th>\n",
       "      <th>citation</th>\n",
       "      <th>...</th>\n",
       "      <th>a_pos</th>\n",
       "      <th>a_compound</th>\n",
       "      <th>t_neg</th>\n",
       "      <th>t_neu</th>\n",
       "      <th>t_pos</th>\n",
       "      <th>t_compound</th>\n",
       "      <th>authers_num</th>\n",
       "      <th>date_days</th>\n",
       "      <th>reads_map</th>\n",
       "      <th>cluster</th>\n",
       "    </tr>\n",
       "  </thead>\n",
       "  <tbody>\n",
       "    <tr>\n",
       "      <th>61</th>\n",
       "      <td>Introduction: Social Media, Politics and Democ...</td>\n",
       "      <td>['Pawel Surowiec', 'Václav Štětka']</td>\n",
       "      <td>level democratisation among state discussed vo...</td>\n",
       "      <td>Chapter</td>\n",
       "      <td>2018.0</td>\n",
       "      <td>569</td>\n",
       "      <td>Aug 1</td>\n",
       "      <td>1</td>\n",
       "      <td>1</td>\n",
       "      <td>2</td>\n",
       "      <td>...</td>\n",
       "      <td>0.000</td>\n",
       "      <td>0.0000</td>\n",
       "      <td>0.000</td>\n",
       "      <td>1.000</td>\n",
       "      <td>0.000</td>\n",
       "      <td>0.0000</td>\n",
       "      <td>2</td>\n",
       "      <td>138.0</td>\n",
       "      <td>1</td>\n",
       "      <td>2</td>\n",
       "    </tr>\n",
       "    <tr>\n",
       "      <th>105</th>\n",
       "      <td>Voices from the Past: Economic and Political V...</td>\n",
       "      <td>['Klaus Armingeon', 'Caroline de la Porte', 'E...</td>\n",
       "      <td>show next generation eu ngeu mainly response e...</td>\n",
       "      <td>Preprint</td>\n",
       "      <td>1.0</td>\n",
       "      <td>569</td>\n",
       "      <td>Aug 31</td>\n",
       "      <td>0</td>\n",
       "      <td>1</td>\n",
       "      <td>0</td>\n",
       "      <td>...</td>\n",
       "      <td>0.180</td>\n",
       "      <td>-0.8878</td>\n",
       "      <td>0.071</td>\n",
       "      <td>0.929</td>\n",
       "      <td>0.000</td>\n",
       "      <td>-0.1531</td>\n",
       "      <td>4</td>\n",
       "      <td>117.0</td>\n",
       "      <td>1</td>\n",
       "      <td>3</td>\n",
       "    </tr>\n",
       "    <tr>\n",
       "      <th>197</th>\n",
       "      <td>Mohajir militancy in Pakistan: Violence and tr...</td>\n",
       "      <td>['Nichola Khan']</td>\n",
       "      <td>synthesizing political anthropological psychol...</td>\n",
       "      <td>Article</td>\n",
       "      <td>1.0</td>\n",
       "      <td>569</td>\n",
       "      <td>Oct 25</td>\n",
       "      <td>0</td>\n",
       "      <td>1</td>\n",
       "      <td>32</td>\n",
       "      <td>...</td>\n",
       "      <td>0.076</td>\n",
       "      <td>-0.9873</td>\n",
       "      <td>0.416</td>\n",
       "      <td>0.584</td>\n",
       "      <td>0.000</td>\n",
       "      <td>-0.7506</td>\n",
       "      <td>1</td>\n",
       "      <td>62.0</td>\n",
       "      <td>1</td>\n",
       "      <td>4</td>\n",
       "    </tr>\n",
       "    <tr>\n",
       "      <th>201</th>\n",
       "      <td>CO-CONSTRUCTED TRANSNATIONAL LEARNING IN POSTG...</td>\n",
       "      <td>['Rachel Martin', 'Mark Price']</td>\n",
       "      <td>considers challenge affordances relating shift...</td>\n",
       "      <td>Article</td>\n",
       "      <td>1.0</td>\n",
       "      <td>569</td>\n",
       "      <td>Oct 21</td>\n",
       "      <td>0</td>\n",
       "      <td>1</td>\n",
       "      <td>0</td>\n",
       "      <td>...</td>\n",
       "      <td>0.086</td>\n",
       "      <td>0.7506</td>\n",
       "      <td>0.000</td>\n",
       "      <td>0.784</td>\n",
       "      <td>0.216</td>\n",
       "      <td>0.5106</td>\n",
       "      <td>2</td>\n",
       "      <td>66.0</td>\n",
       "      <td>1</td>\n",
       "      <td>6</td>\n",
       "    </tr>\n",
       "    <tr>\n",
       "      <th>331</th>\n",
       "      <td>“It’s being a part of a grand tradition, a gra...</td>\n",
       "      <td>['Monique Botha', 'Bridget Dibb', 'David M Fro...</td>\n",
       "      <td>autistic people report greater comfort sociali...</td>\n",
       "      <td>Preprint</td>\n",
       "      <td>1.0</td>\n",
       "      <td>569</td>\n",
       "      <td>Apr 26</td>\n",
       "      <td>0</td>\n",
       "      <td>1</td>\n",
       "      <td>1</td>\n",
       "      <td>...</td>\n",
       "      <td>0.205</td>\n",
       "      <td>0.9442</td>\n",
       "      <td>0.000</td>\n",
       "      <td>0.714</td>\n",
       "      <td>0.286</td>\n",
       "      <td>0.7184</td>\n",
       "      <td>3</td>\n",
       "      <td>244.0</td>\n",
       "      <td>1</td>\n",
       "      <td>0</td>\n",
       "    </tr>\n",
       "    <tr>\n",
       "      <th>418</th>\n",
       "      <td>Investigating public space exploration interes...</td>\n",
       "      <td>['Marta Entradas', 'Steven Miller']</td>\n",
       "      <td>despite recent report stressing uk play full r...</td>\n",
       "      <td>Article</td>\n",
       "      <td>1.0</td>\n",
       "      <td>569</td>\n",
       "      <td>Aug 20</td>\n",
       "      <td>0</td>\n",
       "      <td>0</td>\n",
       "      <td>0</td>\n",
       "      <td>...</td>\n",
       "      <td>0.301</td>\n",
       "      <td>0.9902</td>\n",
       "      <td>0.000</td>\n",
       "      <td>0.479</td>\n",
       "      <td>0.521</td>\n",
       "      <td>0.7650</td>\n",
       "      <td>2</td>\n",
       "      <td>128.0</td>\n",
       "      <td>1</td>\n",
       "      <td>4</td>\n",
       "    </tr>\n",
       "    <tr>\n",
       "      <th>535</th>\n",
       "      <td>Environmental Movements in Asia</td>\n",
       "      <td>['Fengshi Wu']</td>\n",
       "      <td>central inquiry relationship political liberal...</td>\n",
       "      <td>Preprint</td>\n",
       "      <td>1.0</td>\n",
       "      <td>569</td>\n",
       "      <td>Aug 1</td>\n",
       "      <td>1</td>\n",
       "      <td>1</td>\n",
       "      <td>0</td>\n",
       "      <td>...</td>\n",
       "      <td>0.020</td>\n",
       "      <td>0.0772</td>\n",
       "      <td>0.000</td>\n",
       "      <td>1.000</td>\n",
       "      <td>0.000</td>\n",
       "      <td>0.0000</td>\n",
       "      <td>1</td>\n",
       "      <td>138.0</td>\n",
       "      <td>1</td>\n",
       "      <td>4</td>\n",
       "    </tr>\n",
       "    <tr>\n",
       "      <th>536</th>\n",
       "      <td>\"I need you all to understand how pervasive th...</td>\n",
       "      <td>['Michael Salter', 'Elly Hanson']</td>\n",
       "      <td>examines phenomenon internet user attempting r...</td>\n",
       "      <td>Chapter</td>\n",
       "      <td>1.0</td>\n",
       "      <td>569</td>\n",
       "      <td>Aug 1</td>\n",
       "      <td>0</td>\n",
       "      <td>1</td>\n",
       "      <td>1</td>\n",
       "      <td>...</td>\n",
       "      <td>0.211</td>\n",
       "      <td>-0.2023</td>\n",
       "      <td>0.142</td>\n",
       "      <td>0.858</td>\n",
       "      <td>0.000</td>\n",
       "      <td>-0.5106</td>\n",
       "      <td>2</td>\n",
       "      <td>138.0</td>\n",
       "      <td>1</td>\n",
       "      <td>8</td>\n",
       "    </tr>\n",
       "    <tr>\n",
       "      <th>637</th>\n",
       "      <td>Child-centred Framing Through Design Research:...</td>\n",
       "      <td>['Cara Shaw', 'Francesca Bernardi', 'Farnaz Ni...</td>\n",
       "      <td>preprint considers possibility analysing child...</td>\n",
       "      <td>Article</td>\n",
       "      <td>1.0</td>\n",
       "      <td>569</td>\n",
       "      <td>Aug 4</td>\n",
       "      <td>1</td>\n",
       "      <td>1</td>\n",
       "      <td>0</td>\n",
       "      <td>...</td>\n",
       "      <td>0.126</td>\n",
       "      <td>0.9201</td>\n",
       "      <td>0.000</td>\n",
       "      <td>1.000</td>\n",
       "      <td>0.000</td>\n",
       "      <td>0.0000</td>\n",
       "      <td>3</td>\n",
       "      <td>138.0</td>\n",
       "      <td>1</td>\n",
       "      <td>8</td>\n",
       "    </tr>\n",
       "    <tr>\n",
       "      <th>651</th>\n",
       "      <td>Variety, Palatability, and Obesity</td>\n",
       "      <td>['Fiona Johnson', 'Jane Wardle']</td>\n",
       "      <td>among key characteristic western obesogenic fo...</td>\n",
       "      <td>Literature Review</td>\n",
       "      <td>1.0</td>\n",
       "      <td>569</td>\n",
       "      <td>Aug 1</td>\n",
       "      <td>0</td>\n",
       "      <td>1</td>\n",
       "      <td>68</td>\n",
       "      <td>...</td>\n",
       "      <td>0.254</td>\n",
       "      <td>0.9753</td>\n",
       "      <td>0.000</td>\n",
       "      <td>1.000</td>\n",
       "      <td>0.000</td>\n",
       "      <td>0.0000</td>\n",
       "      <td>2</td>\n",
       "      <td>138.0</td>\n",
       "      <td>1</td>\n",
       "      <td>2</td>\n",
       "    </tr>\n",
       "    <tr>\n",
       "      <th>759</th>\n",
       "      <td>Learning inequalities during the Covid-19 pand...</td>\n",
       "      <td>['Nicola Pensiero', 'Anthony Kelly', 'Christia...</td>\n",
       "      <td>transition face face distance home online scho...</td>\n",
       "      <td>Article</td>\n",
       "      <td>1.0</td>\n",
       "      <td>569</td>\n",
       "      <td>Feb 23</td>\n",
       "      <td>0</td>\n",
       "      <td>1</td>\n",
       "      <td>7</td>\n",
       "      <td>...</td>\n",
       "      <td>0.071</td>\n",
       "      <td>-0.2263</td>\n",
       "      <td>0.000</td>\n",
       "      <td>1.000</td>\n",
       "      <td>0.000</td>\n",
       "      <td>0.0000</td>\n",
       "      <td>3</td>\n",
       "      <td>306.0</td>\n",
       "      <td>1</td>\n",
       "      <td>8</td>\n",
       "    </tr>\n",
       "    <tr>\n",
       "      <th>804</th>\n",
       "      <td>The Avoidance and Fusion Questionnaire for You...</td>\n",
       "      <td>['Vasilis S. Vasiliou', 'Maria Koushiou', 'Mar...</td>\n",
       "      <td>current study evaluates whether avoidance fusi...</td>\n",
       "      <td>Poster</td>\n",
       "      <td>1.0</td>\n",
       "      <td>569</td>\n",
       "      <td>Aug 1</td>\n",
       "      <td>0</td>\n",
       "      <td>1</td>\n",
       "      <td>1</td>\n",
       "      <td>...</td>\n",
       "      <td>0.096</td>\n",
       "      <td>0.8519</td>\n",
       "      <td>0.197</td>\n",
       "      <td>0.803</td>\n",
       "      <td>0.000</td>\n",
       "      <td>-0.4019</td>\n",
       "      <td>4</td>\n",
       "      <td>138.0</td>\n",
       "      <td>1</td>\n",
       "      <td>2</td>\n",
       "    </tr>\n",
       "    <tr>\n",
       "      <th>805</th>\n",
       "      <td>ARISTOTLE'S VISION OF POLITICAL EUDAIMONIA QUA...</td>\n",
       "      <td>['Pavlos E Michaelides']</td>\n",
       "      <td>firstly explores aristotle moral vision eudaim...</td>\n",
       "      <td>Article</td>\n",
       "      <td>1.0</td>\n",
       "      <td>569</td>\n",
       "      <td>Dec 28, 2020</td>\n",
       "      <td>0</td>\n",
       "      <td>1</td>\n",
       "      <td>0</td>\n",
       "      <td>...</td>\n",
       "      <td>0.341</td>\n",
       "      <td>0.9959</td>\n",
       "      <td>0.000</td>\n",
       "      <td>0.616</td>\n",
       "      <td>0.384</td>\n",
       "      <td>0.6808</td>\n",
       "      <td>1</td>\n",
       "      <td>363.0</td>\n",
       "      <td>1</td>\n",
       "      <td>4</td>\n",
       "    </tr>\n",
       "    <tr>\n",
       "      <th>852</th>\n",
       "      <td>Psychometric Assessment of Adverse Childhood E...</td>\n",
       "      <td>['Rania Christoforou', 'Nuno Bravo Ferreira']</td>\n",
       "      <td>background current study aimed investigate psy...</td>\n",
       "      <td>Article</td>\n",
       "      <td>1.0</td>\n",
       "      <td>569</td>\n",
       "      <td>Aug 1</td>\n",
       "      <td>1</td>\n",
       "      <td>1</td>\n",
       "      <td>0</td>\n",
       "      <td>...</td>\n",
       "      <td>0.110</td>\n",
       "      <td>-0.9928</td>\n",
       "      <td>0.140</td>\n",
       "      <td>0.726</td>\n",
       "      <td>0.134</td>\n",
       "      <td>-0.0258</td>\n",
       "      <td>2</td>\n",
       "      <td>138.0</td>\n",
       "      <td>1</td>\n",
       "      <td>2</td>\n",
       "    </tr>\n",
       "    <tr>\n",
       "      <th>854</th>\n",
       "      <td>Parental Influence and Sexual Selection</td>\n",
       "      <td>['Menelaos Apostolou']</td>\n",
       "      <td>address genetic relatedness parent child resul...</td>\n",
       "      <td>Chapter</td>\n",
       "      <td>1.0</td>\n",
       "      <td>569</td>\n",
       "      <td>Aug 1</td>\n",
       "      <td>0</td>\n",
       "      <td>1</td>\n",
       "      <td>0</td>\n",
       "      <td>...</td>\n",
       "      <td>0.296</td>\n",
       "      <td>0.9732</td>\n",
       "      <td>0.000</td>\n",
       "      <td>1.000</td>\n",
       "      <td>0.000</td>\n",
       "      <td>0.0000</td>\n",
       "      <td>1</td>\n",
       "      <td>138.0</td>\n",
       "      <td>1</td>\n",
       "      <td>8</td>\n",
       "    </tr>\n",
       "    <tr>\n",
       "      <th>862</th>\n",
       "      <td>Perceptions of the appropriate response to nor...</td>\n",
       "      <td>['Kimmo Ericsson', 'Pontus Strimling', 'Michel...</td>\n",
       "      <td>norm enforcement may important resolving confl...</td>\n",
       "      <td>Article</td>\n",
       "      <td>1.0</td>\n",
       "      <td>569</td>\n",
       "      <td>Aug 1</td>\n",
       "      <td>0</td>\n",
       "      <td>1</td>\n",
       "      <td>1</td>\n",
       "      <td>...</td>\n",
       "      <td>0.087</td>\n",
       "      <td>-0.9477</td>\n",
       "      <td>0.242</td>\n",
       "      <td>0.758</td>\n",
       "      <td>0.000</td>\n",
       "      <td>-0.4939</td>\n",
       "      <td>4</td>\n",
       "      <td>138.0</td>\n",
       "      <td>1</td>\n",
       "      <td>6</td>\n",
       "    </tr>\n",
       "    <tr>\n",
       "      <th>937</th>\n",
       "      <td>Towards a necessary regenerative urban plannin...</td>\n",
       "      <td>['Duncan Crowley', 'Teresa Marat-Mendes', 'Rob...</td>\n",
       "      <td>suggests adequately tackle climate breakdown u...</td>\n",
       "      <td>Article</td>\n",
       "      <td>1.0</td>\n",
       "      <td>569</td>\n",
       "      <td>Apr 15</td>\n",
       "      <td>1</td>\n",
       "      <td>1</td>\n",
       "      <td>1</td>\n",
       "      <td>...</td>\n",
       "      <td>0.134</td>\n",
       "      <td>0.9371</td>\n",
       "      <td>0.000</td>\n",
       "      <td>1.000</td>\n",
       "      <td>0.000</td>\n",
       "      <td>0.0000</td>\n",
       "      <td>4</td>\n",
       "      <td>255.0</td>\n",
       "      <td>1</td>\n",
       "      <td>4</td>\n",
       "    </tr>\n",
       "    <tr>\n",
       "      <th>955</th>\n",
       "      <td>Routledge International Handbook of Charisma</td>\n",
       "      <td>['J. P. Zúquete']</td>\n",
       "      <td>routledge international handbook charisma prov...</td>\n",
       "      <td>Book</td>\n",
       "      <td>1.0</td>\n",
       "      <td>569</td>\n",
       "      <td>Jan 15</td>\n",
       "      <td>0</td>\n",
       "      <td>1</td>\n",
       "      <td>1</td>\n",
       "      <td>...</td>\n",
       "      <td>0.143</td>\n",
       "      <td>0.7845</td>\n",
       "      <td>0.000</td>\n",
       "      <td>1.000</td>\n",
       "      <td>0.000</td>\n",
       "      <td>0.0000</td>\n",
       "      <td>1</td>\n",
       "      <td>345.0</td>\n",
       "      <td>1</td>\n",
       "      <td>6</td>\n",
       "    </tr>\n",
       "    <tr>\n",
       "      <th>985</th>\n",
       "      <td>Populism and Religion</td>\n",
       "      <td>['J. P. Zúquete']</td>\n",
       "      <td>study relationship populism religion long time...</td>\n",
       "      <td>Chapter</td>\n",
       "      <td>1.0</td>\n",
       "      <td>569</td>\n",
       "      <td>Aug 1</td>\n",
       "      <td>0</td>\n",
       "      <td>1</td>\n",
       "      <td>23</td>\n",
       "      <td>...</td>\n",
       "      <td>0.040</td>\n",
       "      <td>-0.3400</td>\n",
       "      <td>0.000</td>\n",
       "      <td>1.000</td>\n",
       "      <td>0.000</td>\n",
       "      <td>0.0000</td>\n",
       "      <td>1</td>\n",
       "      <td>138.0</td>\n",
       "      <td>1</td>\n",
       "      <td>4</td>\n",
       "    </tr>\n",
       "    <tr>\n",
       "      <th>986</th>\n",
       "      <td>100 Social Sciences and Humanities priority re...</td>\n",
       "      <td>['Aleksandra Wagner', 'Olga Koretskaya', 'Robe...</td>\n",
       "      <td>report present question identified scientific ...</td>\n",
       "      <td>Technical Report</td>\n",
       "      <td>1.0</td>\n",
       "      <td>569</td>\n",
       "      <td>Dec 28, 2020</td>\n",
       "      <td>0</td>\n",
       "      <td>1</td>\n",
       "      <td>0</td>\n",
       "      <td>...</td>\n",
       "      <td>0.305</td>\n",
       "      <td>0.9337</td>\n",
       "      <td>0.000</td>\n",
       "      <td>0.861</td>\n",
       "      <td>0.139</td>\n",
       "      <td>0.2732</td>\n",
       "      <td>4</td>\n",
       "      <td>363.0</td>\n",
       "      <td>1</td>\n",
       "      <td>4</td>\n",
       "    </tr>\n",
       "    <tr>\n",
       "      <th>1074</th>\n",
       "      <td>Digital Family Ethnography: Lessons from Field...</td>\n",
       "      <td>['Monika Winarnita']</td>\n",
       "      <td>discus opportunity constraint using digital fa...</td>\n",
       "      <td>Article</td>\n",
       "      <td>1.0</td>\n",
       "      <td>569</td>\n",
       "      <td>Aug 1</td>\n",
       "      <td>0</td>\n",
       "      <td>1</td>\n",
       "      <td>1</td>\n",
       "      <td>...</td>\n",
       "      <td>0.088</td>\n",
       "      <td>0.1027</td>\n",
       "      <td>0.000</td>\n",
       "      <td>1.000</td>\n",
       "      <td>0.000</td>\n",
       "      <td>0.0000</td>\n",
       "      <td>1</td>\n",
       "      <td>138.0</td>\n",
       "      <td>1</td>\n",
       "      <td>6</td>\n",
       "    </tr>\n",
       "    <tr>\n",
       "      <th>1141</th>\n",
       "      <td>The making of intangible cultural heritage : t...</td>\n",
       "      <td>['Valdimar Hafstein']</td>\n",
       "      <td>thesis ph scandinavian university california b...</td>\n",
       "      <td>Article</td>\n",
       "      <td>1.0</td>\n",
       "      <td>569</td>\n",
       "      <td>Jun 4</td>\n",
       "      <td>0</td>\n",
       "      <td>0</td>\n",
       "      <td>41</td>\n",
       "      <td>...</td>\n",
       "      <td>0.000</td>\n",
       "      <td>0.0000</td>\n",
       "      <td>0.000</td>\n",
       "      <td>1.000</td>\n",
       "      <td>0.000</td>\n",
       "      <td>0.0000</td>\n",
       "      <td>1</td>\n",
       "      <td>138.0</td>\n",
       "      <td>1</td>\n",
       "      <td>6</td>\n",
       "    </tr>\n",
       "    <tr>\n",
       "      <th>1154</th>\n",
       "      <td>The Bear, culture, nature, heritage</td>\n",
       "      <td>['Philip Charles', 'Melanie Clapham', 'Ian Con...</td>\n",
       "      <td>investigation cultural significance familiar c...</td>\n",
       "      <td>Book</td>\n",
       "      <td>1.0</td>\n",
       "      <td>569</td>\n",
       "      <td>Aug 1</td>\n",
       "      <td>0</td>\n",
       "      <td>1</td>\n",
       "      <td>4</td>\n",
       "      <td>...</td>\n",
       "      <td>0.127</td>\n",
       "      <td>0.8625</td>\n",
       "      <td>0.000</td>\n",
       "      <td>1.000</td>\n",
       "      <td>0.000</td>\n",
       "      <td>0.0000</td>\n",
       "      <td>4</td>\n",
       "      <td>138.0</td>\n",
       "      <td>1</td>\n",
       "      <td>4</td>\n",
       "    </tr>\n",
       "    <tr>\n",
       "      <th>1181</th>\n",
       "      <td>Fairy tales, copyright, and the public domain</td>\n",
       "      <td>['Valdimar Hafstein']</td>\n",
       "      <td>ailing han christian andersen traveled switzer...</td>\n",
       "      <td>Chapter</td>\n",
       "      <td>1.0</td>\n",
       "      <td>569</td>\n",
       "      <td>Aug 1</td>\n",
       "      <td>0</td>\n",
       "      <td>0</td>\n",
       "      <td>2</td>\n",
       "      <td>...</td>\n",
       "      <td>0.043</td>\n",
       "      <td>-0.9016</td>\n",
       "      <td>0.000</td>\n",
       "      <td>1.000</td>\n",
       "      <td>0.000</td>\n",
       "      <td>0.0000</td>\n",
       "      <td>1</td>\n",
       "      <td>138.0</td>\n",
       "      <td>1</td>\n",
       "      <td>2</td>\n",
       "    </tr>\n",
       "    <tr>\n",
       "      <th>1183</th>\n",
       "      <td>Mobilizing the Arctic Polar Bears and Puffins ...</td>\n",
       "      <td>['Katla Kjartansdóttir', 'Kristinn Schram']</td>\n",
       "      <td>investigates role symbolic meaning puffin pola...</td>\n",
       "      <td>Chapter</td>\n",
       "      <td>1.0</td>\n",
       "      <td>569</td>\n",
       "      <td>Mar 2</td>\n",
       "      <td>1</td>\n",
       "      <td>1</td>\n",
       "      <td>0</td>\n",
       "      <td>...</td>\n",
       "      <td>0.000</td>\n",
       "      <td>0.0000</td>\n",
       "      <td>0.000</td>\n",
       "      <td>1.000</td>\n",
       "      <td>0.000</td>\n",
       "      <td>0.0000</td>\n",
       "      <td>2</td>\n",
       "      <td>138.0</td>\n",
       "      <td>1</td>\n",
       "      <td>4</td>\n",
       "    </tr>\n",
       "  </tbody>\n",
       "</table>\n",
       "<p>25 rows × 45 columns</p>\n",
       "</div>"
      ],
      "text/plain": [
       "                                                  title  \\\n",
       "61    Introduction: Social Media, Politics and Democ...   \n",
       "105   Voices from the Past: Economic and Political V...   \n",
       "197   Mohajir militancy in Pakistan: Violence and tr...   \n",
       "201   CO-CONSTRUCTED TRANSNATIONAL LEARNING IN POSTG...   \n",
       "331   “It’s being a part of a grand tradition, a gra...   \n",
       "418   Investigating public space exploration interes...   \n",
       "535                     Environmental Movements in Asia   \n",
       "536   \"I need you all to understand how pervasive th...   \n",
       "637   Child-centred Framing Through Design Research:...   \n",
       "651                  Variety, Palatability, and Obesity   \n",
       "759   Learning inequalities during the Covid-19 pand...   \n",
       "804   The Avoidance and Fusion Questionnaire for You...   \n",
       "805   ARISTOTLE'S VISION OF POLITICAL EUDAIMONIA QUA...   \n",
       "852   Psychometric Assessment of Adverse Childhood E...   \n",
       "854             Parental Influence and Sexual Selection   \n",
       "862   Perceptions of the appropriate response to nor...   \n",
       "937   Towards a necessary regenerative urban plannin...   \n",
       "955        Routledge International Handbook of Charisma   \n",
       "985                               Populism and Religion   \n",
       "986   100 Social Sciences and Humanities priority re...   \n",
       "1074  Digital Family Ethnography: Lessons from Field...   \n",
       "1141  The making of intangible cultural heritage : t...   \n",
       "1154                The Bear, culture, nature, heritage   \n",
       "1181      Fairy tales, copyright, and the public domain   \n",
       "1183  Mobilizing the Arctic Polar Bears and Puffins ...   \n",
       "\n",
       "                                                authers  \\\n",
       "61                  ['Pawel Surowiec', 'Václav Štětka']   \n",
       "105   ['Klaus Armingeon', 'Caroline de la Porte', 'E...   \n",
       "197                                    ['Nichola Khan']   \n",
       "201                     ['Rachel Martin', 'Mark Price']   \n",
       "331   ['Monique Botha', 'Bridget Dibb', 'David M Fro...   \n",
       "418                 ['Marta Entradas', 'Steven Miller']   \n",
       "535                                      ['Fengshi Wu']   \n",
       "536                   ['Michael Salter', 'Elly Hanson']   \n",
       "637   ['Cara Shaw', 'Francesca Bernardi', 'Farnaz Ni...   \n",
       "651                    ['Fiona Johnson', 'Jane Wardle']   \n",
       "759   ['Nicola Pensiero', 'Anthony Kelly', 'Christia...   \n",
       "804   ['Vasilis S. Vasiliou', 'Maria Koushiou', 'Mar...   \n",
       "805                            ['Pavlos E Michaelides']   \n",
       "852       ['Rania Christoforou', 'Nuno Bravo Ferreira']   \n",
       "854                              ['Menelaos Apostolou']   \n",
       "862   ['Kimmo Ericsson', 'Pontus Strimling', 'Michel...   \n",
       "937   ['Duncan Crowley', 'Teresa Marat-Mendes', 'Rob...   \n",
       "955                                   ['J. P. Zúquete']   \n",
       "985                                   ['J. P. Zúquete']   \n",
       "986   ['Aleksandra Wagner', 'Olga Koretskaya', 'Robe...   \n",
       "1074                               ['Monika Winarnita']   \n",
       "1141                              ['Valdimar Hafstein']   \n",
       "1154  ['Philip Charles', 'Melanie Clapham', 'Ian Con...   \n",
       "1181                              ['Valdimar Hafstein']   \n",
       "1183        ['Katla Kjartansdóttir', 'Kristinn Schram']   \n",
       "\n",
       "                                               abstract               type  \\\n",
       "61    level democratisation among state discussed vo...            Chapter   \n",
       "105   show next generation eu ngeu mainly response e...           Preprint   \n",
       "197   synthesizing political anthropological psychol...            Article   \n",
       "201   considers challenge affordances relating shift...            Article   \n",
       "331   autistic people report greater comfort sociali...           Preprint   \n",
       "418   despite recent report stressing uk play full r...            Article   \n",
       "535   central inquiry relationship political liberal...           Preprint   \n",
       "536   examines phenomenon internet user attempting r...            Chapter   \n",
       "637   preprint considers possibility analysing child...            Article   \n",
       "651   among key characteristic western obesogenic fo...  Literature Review   \n",
       "759   transition face face distance home online scho...            Article   \n",
       "804   current study evaluates whether avoidance fusi...             Poster   \n",
       "805   firstly explores aristotle moral vision eudaim...            Article   \n",
       "852   background current study aimed investigate psy...            Article   \n",
       "854   address genetic relatedness parent child resul...            Chapter   \n",
       "862   norm enforcement may important resolving confl...            Article   \n",
       "937   suggests adequately tackle climate breakdown u...            Article   \n",
       "955   routledge international handbook charisma prov...               Book   \n",
       "985   study relationship populism religion long time...            Chapter   \n",
       "986   report present question identified scientific ...   Technical Report   \n",
       "1074  discus opportunity constraint using digital fa...            Article   \n",
       "1141  thesis ph scandinavian university california b...            Article   \n",
       "1154  investigation cultural significance familiar c...               Book   \n",
       "1181  ailing han christian andersen traveled switzer...            Chapter   \n",
       "1183  investigates role symbolic meaning puffin pola...            Chapter   \n",
       "\n",
       "      date_pub  journal    date_added  figuers  full_text  citation  ...  \\\n",
       "61      2018.0      569         Aug 1        1          1         2  ...   \n",
       "105        1.0      569        Aug 31        0          1         0  ...   \n",
       "197        1.0      569        Oct 25        0          1        32  ...   \n",
       "201        1.0      569        Oct 21        0          1         0  ...   \n",
       "331        1.0      569        Apr 26        0          1         1  ...   \n",
       "418        1.0      569        Aug 20        0          0         0  ...   \n",
       "535        1.0      569         Aug 1        1          1         0  ...   \n",
       "536        1.0      569         Aug 1        0          1         1  ...   \n",
       "637        1.0      569         Aug 4        1          1         0  ...   \n",
       "651        1.0      569         Aug 1        0          1        68  ...   \n",
       "759        1.0      569        Feb 23        0          1         7  ...   \n",
       "804        1.0      569         Aug 1        0          1         1  ...   \n",
       "805        1.0      569  Dec 28, 2020        0          1         0  ...   \n",
       "852        1.0      569         Aug 1        1          1         0  ...   \n",
       "854        1.0      569         Aug 1        0          1         0  ...   \n",
       "862        1.0      569         Aug 1        0          1         1  ...   \n",
       "937        1.0      569        Apr 15        1          1         1  ...   \n",
       "955        1.0      569        Jan 15        0          1         1  ...   \n",
       "985        1.0      569         Aug 1        0          1        23  ...   \n",
       "986        1.0      569  Dec 28, 2020        0          1         0  ...   \n",
       "1074       1.0      569         Aug 1        0          1         1  ...   \n",
       "1141       1.0      569         Jun 4        0          0        41  ...   \n",
       "1154       1.0      569         Aug 1        0          1         4  ...   \n",
       "1181       1.0      569         Aug 1        0          0         2  ...   \n",
       "1183       1.0      569         Mar 2        1          1         0  ...   \n",
       "\n",
       "      a_pos  a_compound  t_neg  t_neu  t_pos t_compound authers_num date_days  \\\n",
       "61    0.000      0.0000  0.000  1.000  0.000     0.0000           2     138.0   \n",
       "105   0.180     -0.8878  0.071  0.929  0.000    -0.1531           4     117.0   \n",
       "197   0.076     -0.9873  0.416  0.584  0.000    -0.7506           1      62.0   \n",
       "201   0.086      0.7506  0.000  0.784  0.216     0.5106           2      66.0   \n",
       "331   0.205      0.9442  0.000  0.714  0.286     0.7184           3     244.0   \n",
       "418   0.301      0.9902  0.000  0.479  0.521     0.7650           2     128.0   \n",
       "535   0.020      0.0772  0.000  1.000  0.000     0.0000           1     138.0   \n",
       "536   0.211     -0.2023  0.142  0.858  0.000    -0.5106           2     138.0   \n",
       "637   0.126      0.9201  0.000  1.000  0.000     0.0000           3     138.0   \n",
       "651   0.254      0.9753  0.000  1.000  0.000     0.0000           2     138.0   \n",
       "759   0.071     -0.2263  0.000  1.000  0.000     0.0000           3     306.0   \n",
       "804   0.096      0.8519  0.197  0.803  0.000    -0.4019           4     138.0   \n",
       "805   0.341      0.9959  0.000  0.616  0.384     0.6808           1     363.0   \n",
       "852   0.110     -0.9928  0.140  0.726  0.134    -0.0258           2     138.0   \n",
       "854   0.296      0.9732  0.000  1.000  0.000     0.0000           1     138.0   \n",
       "862   0.087     -0.9477  0.242  0.758  0.000    -0.4939           4     138.0   \n",
       "937   0.134      0.9371  0.000  1.000  0.000     0.0000           4     255.0   \n",
       "955   0.143      0.7845  0.000  1.000  0.000     0.0000           1     345.0   \n",
       "985   0.040     -0.3400  0.000  1.000  0.000     0.0000           1     138.0   \n",
       "986   0.305      0.9337  0.000  0.861  0.139     0.2732           4     363.0   \n",
       "1074  0.088      0.1027  0.000  1.000  0.000     0.0000           1     138.0   \n",
       "1141  0.000      0.0000  0.000  1.000  0.000     0.0000           1     138.0   \n",
       "1154  0.127      0.8625  0.000  1.000  0.000     0.0000           4     138.0   \n",
       "1181  0.043     -0.9016  0.000  1.000  0.000     0.0000           1     138.0   \n",
       "1183  0.000      0.0000  0.000  1.000  0.000     0.0000           2     138.0   \n",
       "\n",
       "     reads_map  cluster  \n",
       "61           1        2  \n",
       "105          1        3  \n",
       "197          1        4  \n",
       "201          1        6  \n",
       "331          1        0  \n",
       "418          1        4  \n",
       "535          1        4  \n",
       "536          1        8  \n",
       "637          1        8  \n",
       "651          1        2  \n",
       "759          1        8  \n",
       "804          1        2  \n",
       "805          1        4  \n",
       "852          1        2  \n",
       "854          1        8  \n",
       "862          1        6  \n",
       "937          1        4  \n",
       "955          1        6  \n",
       "985          1        4  \n",
       "986          1        4  \n",
       "1074         1        6  \n",
       "1141         1        6  \n",
       "1154         1        4  \n",
       "1181         1        2  \n",
       "1183         1        4  \n",
       "\n",
       "[25 rows x 45 columns]"
      ]
     },
     "execution_count": 850,
     "metadata": {},
     "output_type": "execute_result"
    }
   ],
   "source": [
    "dfkm[dfkm['journal']==569]"
   ]
  },
  {
   "cell_type": "code",
   "execution_count": 858,
   "id": "e84bae14",
   "metadata": {},
   "outputs": [],
   "source": [
    "dfkm.to_csv('data_clustred.csv', index=False)"
   ]
  },
  {
   "cell_type": "code",
   "execution_count": null,
   "id": "738ee1e9",
   "metadata": {},
   "outputs": [],
   "source": []
  }
 ],
 "metadata": {
  "kernelspec": {
   "display_name": "Python 3",
   "language": "python",
   "name": "python3"
  },
  "language_info": {
   "codemirror_mode": {
    "name": "ipython",
    "version": 3
   },
   "file_extension": ".py",
   "mimetype": "text/x-python",
   "name": "python",
   "nbconvert_exporter": "python",
   "pygments_lexer": "ipython3",
   "version": "3.8.8"
  }
 },
 "nbformat": 4,
 "nbformat_minor": 5
}
